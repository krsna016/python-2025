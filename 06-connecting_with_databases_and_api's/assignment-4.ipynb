{
 "cells": [
  {
   "cell_type": "markdown",
   "metadata": {},
   "source": [
    "# FLASK-1:"
   ]
  },
  {
   "cell_type": "code",
   "execution_count": null,
   "metadata": {},
   "outputs": [],
   "source": [
    "# Q-1 sol:\n",
    "\n",
    "\"\"\"\n",
    "Flask is a lightweight web framework written in Python. It is designed to be simple,\n",
    "flexible, and easy to use, making it a popular choice for building web applications \n",
    "and APIs. \n",
    "Here are the advantages of the Flask framework:\n",
    "\n",
    "1.Lightweight and minimalistic.\n",
    "2.Easy to learn and use.\n",
    "3.Flexible and customizable.\n",
    "4.Extensible with a wide range of extensions.\n",
    "5.Built-in development server for easy testing.\n",
    "6.Excellent documentation and community support.\n",
    "7.Compatible with various Python libraries and tools.\n",
    "\"\"\""
   ]
  },
  {
   "cell_type": "code",
   "execution_count": null,
   "metadata": {},
   "outputs": [],
   "source": [
    "# Q-2 sol:\n",
    "\n",
    "from flask import Flask\n",
    "flask = Flask(__name__) # Object of flask\n",
    "@flask.route(\"/\") # Decorator\n",
    "def hello_world():\n",
    "    return \"<h1>Hello world!</h1>\"\n",
    "\n",
    "if __name__ == \"__main__\":\n",
    "    flask.run(host=\"0.0.0.0\")\n",
    "\n",
    "# ImageURL: https://drive.google.com/file/d/1JhCMo91q1YTLWJ6NIVvyiBAfBNkf2SgT/view?usp=drive_link"
   ]
  },
  {
   "cell_type": "code",
   "execution_count": 3,
   "metadata": {},
   "outputs": [
    {
     "data": {
      "text/plain": [
       "'\\nApp routing in Flask involves mapping URLs to functions that handle HTTP requests\\nin a Flask application.\\n\\nWe use app routes in Flask for URL handling, request handling, and building RESTful APIs. \\nThey allow us to define the URLs our application should respond to and determine the \\nfunctions that execute for each URL. App routes provide a structured and organized \\napproach to handle different requests and build web applications or APIs efficiently.\\n'"
      ]
     },
     "execution_count": 3,
     "metadata": {},
     "output_type": "execute_result"
    }
   ],
   "source": [
    "# Q-3 sol:\n",
    "\n",
    "\"\"\"\n",
    "App routing in Flask involves mapping URLs to functions that handle HTTP requests\n",
    "in a Flask application.\n",
    "\n",
    "We use app routes in Flask for URL handling, request handling, and building RESTful APIs. \n",
    "They allow us to define the URLs our application should respond to and determine the \n",
    "functions that execute for each URL. App routes provide a structured and organized \n",
    "approach to handle different requests and build web applications or APIs efficiently.\n",
    "\"\"\""
   ]
  },
  {
   "cell_type": "code",
   "execution_count": null,
   "metadata": {},
   "outputs": [],
   "source": [
    "# Q-4 sol:\n",
    "\n",
    "from flask import Flask\n",
    "flask = Flask(__name__) # Object of flask\n",
    "\n",
    "@flask.route(\"/welcome\") # Decorator\n",
    "def welcome_msg():\n",
    "    return \"Welcome to ABC Corporation\"\n",
    "\n",
    "@flask.route(\"/\") # Decorator\n",
    "def company_details():\n",
    "    return \"Company Name: ABC Corporation \\n\\\n",
    "            Location: India \\n \\\n",
    "            Contact Detail: 999-999-9999\"\n",
    "\n",
    "if __name__ == \"__main__\":\n",
    "    flask.run(host=\"0.0.0.0\")\n",
    "\n",
    "# ImageURL: 1.https://drive.google.com/file/d/1IdntUFIvdgjkUX2DEvTDz3F3MImLB56r/view?usp=drive_link\n",
    "#           2.https://drive.google.com/file/d/1OLrC8Ml_Zj69ZhZYTrK0IScjkaJyC5xv/view?usp=drive_link"
   ]
  },
  {
   "cell_type": "code",
   "execution_count": 10,
   "metadata": {},
   "outputs": [
    {
     "name": "stdout",
     "output_type": "stream",
     "text": [
      "/\n",
      "/user/User?username=John\n",
      "/about\n",
      "/contact\n"
     ]
    }
   ],
   "source": [
    "# Q-5 sol:\n",
    "\n",
    "\"\"\"\n",
    "In Flask, the url_for() function is used for URL building. \n",
    "It generates a URL for a specified endpoint by taking into \n",
    "account the routing rules defined in the application.\n",
    "\"\"\"\n",
    "\n",
    "from flask import Flask, url_for\n",
    "app = Flask(__name__)\n",
    "\n",
    "@app.route('/')\n",
    "def home():\n",
    "    return 'Welcome to the home page!'\n",
    "\n",
    "@app.route('/user/User')\n",
    "def user_profile():\n",
    "    return f'Hello, User!'\n",
    "\n",
    "@app.route('/about')\n",
    "def about():\n",
    "    return 'This is the about page.'\n",
    "\n",
    "@app.route('/contact')\n",
    "def contact():\n",
    "    return 'This is the contact page.'\n",
    "\n",
    "if __name__ == '__main__':\n",
    "    with app.test_request_context():\n",
    "        print(url_for('home'))  # Output: /\n",
    "        print(url_for('user_profile', username='John'))  # Output: /user/John\n",
    "        print(url_for('about'))  # Output: /about\n",
    "        print(url_for('contact'))  # Output: /contact\n"
   ]
  }
 ],
 "metadata": {
  "kernelspec": {
   "display_name": "Python 3",
   "language": "python",
   "name": "python3"
  },
  "language_info": {
   "codemirror_mode": {
    "name": "ipython",
    "version": 3
   },
   "file_extension": ".py",
   "mimetype": "text/x-python",
   "name": "python",
   "nbconvert_exporter": "python",
   "pygments_lexer": "ipython3",
   "version": "3.11.4"
  },
  "orig_nbformat": 4
 },
 "nbformat": 4,
 "nbformat_minor": 2
}
