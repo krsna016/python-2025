{
 "cells": [
  {
   "cell_type": "markdown",
   "metadata": {},
   "source": [
    "# MYSQL:"
   ]
  },
  {
   "cell_type": "code",
   "execution_count": null,
   "metadata": {},
   "outputs": [],
   "source": [
    "# Q-1 sol:\n",
    "\n",
    "\n",
    "\"\"\"\n",
    "Database:\n",
    "A database is a structured collection of data that is organized and stored in\n",
    "a computer system. It provides a way to store, manage, and retrieve data efficiently.\n",
    "\n",
    "SQL databases:\n",
    "\n",
    "Follow a relational data model.\n",
    "Have predefined schemas and enforce data consistency.\n",
    "Use SQL as the standard query language.\n",
    "Traditionally scale vertically, though horizontal scaling is possible.\n",
    "Well-suited for applications with complex relationships and structured data.\n",
    "\n",
    "NoSQL databases:\n",
    "\n",
    "Utilize various data models (key-value, document, columnar, graph).\n",
    "Allow flexible and schema-less data storage.\n",
    "Provide different query languages/interfaces based on the data model.\n",
    "Designed for horizontal scalability and handling large data volumes.\n",
    "Suitable for dynamic data structures, unstructured data, and high scalability needs.\n",
    "\"\"\""
   ]
  },
  {
   "cell_type": "code",
   "execution_count": null,
   "metadata": {},
   "outputs": [],
   "source": [
    "# Q-2 sol:\n",
    "\n",
    "\"\"\"\n",
    "DDL stands for Data Definition Language. It is a subset of SQL (Structured Query Language)\n",
    "used to define and manage the structure of a database, including tables, constraints,\n",
    "indexes, and other database objects. DDL statements are used to create, modify, and delete \n",
    "database objects.\n",
    "\n",
    "CREATE: The CREATE statement is used to create new database objects, such as tables, views, indexes, or schemas.\n",
    "\n",
    "DROP: The DROP statement is used to remove or delete existing database objects.\n",
    "\n",
    "ALTER: The ALTER statement is used to modify the structure of existing database \n",
    "       objects, such as adding or dropping columns, modifying constraints, or renaming \n",
    "       objects.\n",
    "\n",
    "TRUNCATE: The TRUNCATE statement is used to remove all data from a table while \n",
    "          keeping the table structure intact. It is a faster alternative to the DELETE \n",
    "          statement when you want to remove all rows from a table.\n",
    "\n",
    "The examples are given below:\n",
    "\"\"\"\n",
    "\n",
    "# CREATE:\n",
    "CREATE TABLE Customers(\n",
    "    id INT PRIMARY KEY,\n",
    "    name VARCHAR(100),\n",
    "    email VARCHAR(100)\n",
    "    );\n",
    "\n",
    "# DROP:\n",
    "DROP TABLE Customers;\n",
    "\n",
    "# ALTER:\n",
    "ALTER TABLE Customers\n",
    "ADD COLUMN phone VARCHAR(20);\n",
    "\n",
    "# TRUNCATE:\n",
    "ALTER TABLE Customers\n",
    "ADD COLUMN phone VARCHAR(20);"
   ]
  },
  {
   "cell_type": "code",
   "execution_count": null,
   "metadata": {},
   "outputs": [],
   "source": [
    "# Q-3 sol:\n",
    "\n",
    "\"\"\"\n",
    "DML stands for Data Manipulation Language. It is a subset of SQL\n",
    "(Structured Query Language) used to manipulate the data within a\n",
    "database. DML statements are used to insert, update, and delete \n",
    "data in database tables.\n",
    "\"\"\"\n",
    "# INSERT: The INSERT statement is used to add new rows of data into a table:eg-\n",
    "INSERT INTO Customers (id, name, email)\n",
    "VALUES (1, 'John Smith', 'john@example.com');\n",
    "# UPDATE: The UPDATE statement is used to modify existing data in a table:eg-\n",
    "UPDATE Customers\n",
    "SET email = 'newemail@example.com'\n",
    "WHERE id = 1;\n",
    "# DELETE: The DELETE statement is used to remove rows of data from a table.\n",
    "DELETE FROM Customers\n",
    "WHERE id = 1;"
   ]
  },
  {
   "cell_type": "code",
   "execution_count": null,
   "metadata": {},
   "outputs": [],
   "source": [
    "# Q-4 sol:\n",
    "\n",
    "\"\"\"\n",
    "DQL stands for Data Query Language. It is a subset of SQL (Structured Query Language)\n",
    "used to retrieve data from a database. DQL statements, particularly the SELECT statement,\n",
    "are used to query and fetch specific data from one or more database tables.\n",
    "\n",
    "SELECT:\n",
    "The SELECT statement is used to retrieve data from one or more tables in a database.\n",
    "It allows you to specify the columns you want to retrieve, apply filtering conditions,\n",
    "perform calculations, join tables, and more.\n",
    "\"\"\"\n",
    "# Example:\n",
    "SELECT id, name, email\n",
    "FROM Customers\n"
   ]
  },
  {
   "cell_type": "code",
   "execution_count": 3,
   "metadata": {},
   "outputs": [
    {
     "data": {
      "text/plain": [
       "'\\nPrimary Key: \\nA primary key is a unique identifier for each row in a table. \\nIt ensures uniqueness and non-nullability of values and often serves as a reference\\nfor establishing relationships between tables.\\n\\nForeign Key: \\nA foreign key is a column that references the primary key of another table. It maintains\\nreferential integrity by ensuring that values in the foreign key column match the primary\\nkey values in the referenced table. It establishes relationships between tables and helps\\nmaintain data consistency.\\n'"
      ]
     },
     "execution_count": 3,
     "metadata": {},
     "output_type": "execute_result"
    }
   ],
   "source": [
    "# Q-5 sol:\n",
    "\n",
    "\"\"\"\n",
    "Primary Key: \n",
    "A primary key is a unique identifier for each row in a table. \n",
    "It ensures uniqueness and non-nullability of values and often serves as a reference\n",
    "for establishing relationships between tables.\n",
    "\n",
    "Foreign Key: \n",
    "A foreign key is a column that references the primary key of another table. It maintains\n",
    "referential integrity by ensuring that values in the foreign key column match the primary\n",
    "key values in the referenced table. It establishes relationships between tables and helps\n",
    "maintain data consistency.\n",
    "\"\"\""
   ]
  },
  {
   "cell_type": "code",
   "execution_count": 5,
   "metadata": {},
   "outputs": [],
   "source": [
    "# Q-6 sol:\n",
    "\n",
    "\"\"\"\n",
    "cursor() method: \n",
    "This method creates a cursor object that allows you to execute SQL \n",
    "queries and fetch the results. The cursor acts as a control structure\n",
    "to navigate and interact with the database.\n",
    "execute() method: \n",
    "This method is used to execute SQL queries through the cursor.\n",
    "\"\"\"\n",
    "import mysql.connector\n",
    "MyDatabase = mysql.connector.connect(\n",
    "    host = 'localhost',\n",
    "    user = 'root',\n",
    "    password = 'A1nurag_P16areek'\n",
    ")\n",
    "MyCursor = MyDatabase.cursor()\n",
    "# Creating database\n",
    "MyCursor.execute(\"CREATE DATABASE if not exists database_3\")\n",
    "MyDatabase.close()"
   ]
  },
  {
   "cell_type": "code",
   "execution_count": 6,
   "metadata": {},
   "outputs": [
    {
     "data": {
      "text/plain": [
       "'\\nIn a standard SQL query, the clauses are executed in the following order:\\nFROM\\nJOIN\\nWHERE\\nGROUP BY\\nHAVING\\nSELECT\\nDISTINCT\\nORDER BY\\nLIMIT/OFFSET\\n'"
      ]
     },
     "execution_count": 6,
     "metadata": {},
     "output_type": "execute_result"
    }
   ],
   "source": [
    "# Q-7 sol:\n",
    "\n",
    "\"\"\"\n",
    "In a standard SQL query, the clauses are executed in the following order:\n",
    "FROM\n",
    "JOIN\n",
    "WHERE\n",
    "GROUP BY\n",
    "HAVING\n",
    "SELECT\n",
    "DISTINCT\n",
    "ORDER BY\n",
    "LIMIT/OFFSET\n",
    "\"\"\""
   ]
  }
 ],
 "metadata": {
  "kernelspec": {
   "display_name": "Python 3",
   "language": "python",
   "name": "python3"
  },
  "language_info": {
   "codemirror_mode": {
    "name": "ipython",
    "version": 3
   },
   "file_extension": ".py",
   "mimetype": "text/x-python",
   "name": "python",
   "nbconvert_exporter": "python",
   "pygments_lexer": "ipython3",
   "version": "3.11.4"
  },
  "orig_nbformat": 4
 },
 "nbformat": 4,
 "nbformat_minor": 2
}
