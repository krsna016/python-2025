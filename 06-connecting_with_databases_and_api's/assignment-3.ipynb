{
 "cells": [
  {
   "cell_type": "markdown",
   "metadata": {},
   "source": [
    "# Working With API:\n"
   ]
  },
  {
   "cell_type": "code",
   "execution_count": 1,
   "metadata": {},
   "outputs": [
    {
     "data": {
      "text/plain": [
       "'\\nAPI stands for Application Programming Interface. It is a set of rules and \\nprotocols that allows different software applications to communicate and \\ninteract with each other. APIs define how different software components should\\ninteract and what functionalities they can access.\\n\\nAn example of where an API is used in real life is in social media platforms. \\nPlatforms like Facebook, Twitter, and Instagram provide APIs that allow developers \\nto integrate their applications with these platforms. Developers can use the APIs \\nto access user data, post content, retrieve feeds, and perform various actions \\nwithin the social media ecosystem.\\n'"
      ]
     },
     "execution_count": 1,
     "metadata": {},
     "output_type": "execute_result"
    }
   ],
   "source": [
    "# Q-1 sol:\n",
    "\n",
    "\"\"\"\n",
    "API stands for Application Programming Interface. It is a set of rules and \n",
    "protocols that allows different software applications to communicate and \n",
    "interact with each other. APIs define how different software components should\n",
    "interact and what functionalities they can access.\n",
    "\n",
    "An example of where an API is used in real life is in social media platforms. \n",
    "Platforms like Facebook, Twitter, and Instagram provide APIs that allow developers \n",
    "to integrate their applications with these platforms. Developers can use the APIs \n",
    "to access user data, post content, retrieve feeds, and perform various actions \n",
    "within the social media ecosystem.\n",
    "\"\"\""
   ]
  },
  {
   "cell_type": "code",
   "execution_count": 2,
   "metadata": {},
   "outputs": [
    {
     "data": {
      "text/plain": [
       "'\\nAdvantages of using APIs:\\n\\n1.Integration and Interoperability\\n2.Efficiency and Productivity\\n3.Enhanced User Experience\\n4.Scalability and Flexibility\\n5.Ecosystem and Collaboration\\n\\nDisadvantages of using APIs:\\n\\n1.Dependency on External Services\\n2.Security and Privacy Concerns\\n3.Limited Control\\n4.Versioning and Compatibility\\n'"
      ]
     },
     "execution_count": 2,
     "metadata": {},
     "output_type": "execute_result"
    }
   ],
   "source": [
    "# Q-2 sol:\n",
    "\n",
    "\"\"\"\n",
    "Advantages of using APIs:\n",
    "\n",
    "1.Integration and Interoperability\n",
    "2.Efficiency and Productivity\n",
    "3.Enhanced User Experience\n",
    "4.Scalability and Flexibility\n",
    "5.Ecosystem and Collaboration\n",
    "\n",
    "Disadvantages of using APIs:\n",
    "\n",
    "1.Dependency on External Services\n",
    "2.Security and Privacy Concerns\n",
    "3.Limited Control\n",
    "4.Versioning and Compatibility\n",
    "\"\"\""
   ]
  },
  {
   "cell_type": "code",
   "execution_count": 3,
   "metadata": {},
   "outputs": [
    {
     "data": {
      "text/plain": [
       "'\\nA Web API (Application Programming Interface) is an API that is specifically \\ndesigned to be used over the web using HTTP (Hypertext Transfer Protocol). \\nIt enables communication and interaction between web-based applications or \\nservices by exposing a set of endpoints or URLs that can be accessed through \\nHTTP requests.\\n\\nAPI:\\n\\n1.General term referring to interfaces used for software communication.\\n2.Can use various protocols and transports for communication.\\n3.Not limited to web-based applications.\\n4.Can be implemented in different programming languages and used in various environments.\\n\\nWeb API:\\n\\n1.Specifically designed to be accessed over the web using HTTP.\\n2.Utilizes standard web technologies like URLs, headers, and status codes.\\n3.Used for web-based application integration.\\n4.Enables communication between web services, mobile applications, or web applications and remote servers.\\n5.Platform-independent, as long as the client can send HTTP requests and handle responses.\\n'"
      ]
     },
     "execution_count": 3,
     "metadata": {},
     "output_type": "execute_result"
    }
   ],
   "source": [
    "# Q-3 sol:\n",
    "\n",
    "\"\"\"\n",
    "A Web API (Application Programming Interface) is an API that is specifically \n",
    "designed to be used over the web using HTTP (Hypertext Transfer Protocol). \n",
    "It enables communication and interaction between web-based applications or \n",
    "services by exposing a set of endpoints or URLs that can be accessed through \n",
    "HTTP requests.\n",
    "\n",
    "API:\n",
    "\n",
    "1.General term referring to interfaces used for software communication.\n",
    "2.Can use various protocols and transports for communication.\n",
    "3.Not limited to web-based applications.\n",
    "4.Can be implemented in different programming languages and used in various environments.\n",
    "\n",
    "Web API:\n",
    "\n",
    "1.Specifically designed to be accessed over the web using HTTP.\n",
    "2.Utilizes standard web technologies like URLs, headers, and status codes.\n",
    "3.Used for web-based application integration.\n",
    "4.Enables communication between web services, mobile applications, or web applications and remote servers.\n",
    "5.Platform-independent, as long as the client can send HTTP requests and handle responses.\n",
    "\"\"\"\n"
   ]
  },
  {
   "cell_type": "code",
   "execution_count": 4,
   "metadata": {},
   "outputs": [],
   "source": [
    "# Q-4 sol:\n",
    "\n",
    "\"\"\"\n",
    "REST Architecture:\n",
    "\n",
    "1.Stateless, client-server communication over HTTP.\n",
    "2.Uses standard HTTP methods (GET, POST, PUT, DELETE).\n",
    "3.Lightweight, scalable, and easy to cache.\n",
    "4.Commonly used in web applications, mobile apps, and public APIs.\n",
    "\n",
    "SOAP Architecture:\n",
    "\n",
    "1.Protocol for structured information exchange using XML.\n",
    "2.Relies on standards like WSDL, SOAP, XML.\n",
    "3.Supports advanced features like security and transactions.\n",
    "4.Used in enterprise applications with complex integration needs.\n",
    "\n",
    "Shortcomings of SOAP:\n",
    "\n",
    "1.Complexity and additional configuration.\n",
    "2.Larger message size and increased bandwidth usage.\n",
    "3.Limited platform and language support.\n",
    "4.Stateful nature affects caching and performance.\n",
    "5.Slower development process compared to REST.\n",
    "\"\"\""
   ]
  },
  {
   "cell_type": "code",
   "execution_count": 5,
   "metadata": {},
   "outputs": [],
   "source": [
    "# Q-5 sol:\n",
    "\n",
    "\"\"\"\n",
    "REST:\n",
    "\n",
    "1.Representational State Transfer.\n",
    "2.Architecture based on stateless, client-server communication.\n",
    "3.Uses standard HTTP methods (GET, POST, PUT, DELETE) for operations on resources.\n",
    "4.Lightweight, simple, and scalable.\n",
    "5.Emphasizes easy caching and stateless nature.\n",
    "6.Commonly used in web applications, mobile apps, and public APIs.\n",
    "7.Supports multiple data formats like JSON, XML, etc.\n",
    "\n",
    "SOAP:\n",
    "\n",
    "1.Simple Object Access Protocol.\n",
    "2.Protocol for structured information exchange.\n",
    "3.Relies on XML for message format and WSDL for service definition.\n",
    "4.Supports advanced features like security, transactions, and ACID compliance.\n",
    "5.Suitable for enterprise applications and complex integration scenarios.\n",
    "6.More complex, requires additional configuration.\n",
    "7.Primarily used with Java and .NET languages.\n",
    "8.Slower development process compared to REST.\n",
    "\"\"\""
   ]
  }
 ],
 "metadata": {
  "kernelspec": {
   "display_name": "Python 3",
   "language": "python",
   "name": "python3"
  },
  "language_info": {
   "codemirror_mode": {
    "name": "ipython",
    "version": 3
   },
   "file_extension": ".py",
   "mimetype": "text/x-python",
   "name": "python",
   "nbconvert_exporter": "python",
   "pygments_lexer": "ipython3",
   "version": "3.11.4"
  },
  "orig_nbformat": 4
 },
 "nbformat": 4,
 "nbformat_minor": 2
}
