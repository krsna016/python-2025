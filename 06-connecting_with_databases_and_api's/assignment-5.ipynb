{
 "cells": [
  {
   "cell_type": "markdown",
   "metadata": {},
   "source": [
    "# FLASK-2:"
   ]
  },
  {
   "cell_type": "code",
   "execution_count": 1,
   "metadata": {},
   "outputs": [
    {
     "data": {
      "text/plain": [
       "'\\n'"
      ]
     },
     "execution_count": 1,
     "metadata": {},
     "output_type": "execute_result"
    }
   ],
   "source": [
    "# Q-1 sol:\n",
    "\n",
    "\"\"\"\n",
    "GET:\n",
    "\n",
    "1.GET is an HTTP method used for retrieving or fetching data from a server.\n",
    "2.When a client sends a GET request, the server responds with the requested data in the response body.\n",
    "3.GET requests are generally used for reading or retrieving data from the server.\n",
    "4.GET requests can include query parameters in the URL to provide additional information to the server.\n",
    "5.GET requests are idempotent, meaning they can be safely repeated without causing any changes on the server.\n",
    "\n",
    "POST:\n",
    "\n",
    "1.POST is an HTTP method used for submitting or sending data to a server.\n",
    "2.When a client sends a POST request, the data is included in the request body.\n",
    "3.POST requests are typically used for creating or updating data on the server.\n",
    "4.POST requests can include sensitive information or large amounts of data in the request body.\n",
    "5.POST requests are not idempotent, as submitting the same data multiple times may result in multiple creations or updates on the server.\n",
    "\"\"\""
   ]
  },
  {
   "cell_type": "code",
   "execution_count": 2,
   "metadata": {},
   "outputs": [
    {
     "data": {
      "text/plain": [
       "'\\nThe request object in Flask is used to access incoming request data from the client, \\nsuch as form data, query parameters, headers, and files. It provides an interface \\nto retrieve and handle data sent by the client during an HTTP request.\\n'"
      ]
     },
     "execution_count": 2,
     "metadata": {},
     "output_type": "execute_result"
    }
   ],
   "source": [
    "# Q-2 sol:\n",
    "\n",
    "\"\"\"\n",
    "The request object in Flask is used to access incoming request data from the client, \n",
    "such as form data, query parameters, headers, and files. It provides an interface \n",
    "to retrieve and handle data sent by the client during an HTTP request.\n",
    "\"\"\""
   ]
  },
  {
   "cell_type": "code",
   "execution_count": 3,
   "metadata": {},
   "outputs": [
    {
     "data": {
      "text/plain": [
       "\"\\nThe redirect() function in Flask is used to redirect the user's browser to a different URL.\\nIt is typically used to redirect users after a successful form submission, authentication,\\nor to direct them to another page for further actions or processing.\\n\""
      ]
     },
     "execution_count": 3,
     "metadata": {},
     "output_type": "execute_result"
    }
   ],
   "source": [
    "# Q-3 sol:\n",
    "\n",
    "\"\"\"\n",
    "The redirect() function in Flask is used to redirect the user's browser to a different URL.\n",
    "It is typically used to redirect users after a successful form submission, authentication,\n",
    "or to direct them to another page for further actions or processing.\n",
    "\"\"\""
   ]
  },
  {
   "cell_type": "code",
   "execution_count": 4,
   "metadata": {},
   "outputs": [
    {
     "data": {
      "text/plain": [
       "'\\nTemplates in Flask are files that contain HTML markup with dynamic placeholders. \\nThey allow developers to separate the presentation logic from the application logic, \\nmaking it easier to manage and update the user interface.\\n\\nThe render_template():\\nThis function in Flask is used to render and display these templates in the browser. \\nIt takes the name of the template file as an argument and dynamically replaces the \\nplaceholders with actual data to generate the final HTML page that is sent to the client.\\n'"
      ]
     },
     "execution_count": 4,
     "metadata": {},
     "output_type": "execute_result"
    }
   ],
   "source": [
    "# Q-4 sol:\n",
    "\n",
    "\"\"\"\n",
    "Templates in Flask are files that contain HTML markup with dynamic placeholders. \n",
    "They allow developers to separate the presentation logic from the application logic, \n",
    "making it easier to manage and update the user interface.\n",
    "\n",
    "The render_template():\n",
    "This function in Flask is used to render and display these templates in the browser. \n",
    "It takes the name of the template file as an argument and dynamically replaces the \n",
    "placeholders with actual data to generate the final HTML page that is sent to the client.\n",
    "\"\"\""
   ]
  },
  {
   "cell_type": "code",
   "execution_count": 4,
   "metadata": {},
   "outputs": [],
   "source": [
    "# Q-5 sol:\n",
    "\n",
    "\n",
    "from flask import Flask, request, jsonify\n",
    "app = Flask(__name__)\n",
    "\n",
    "@app.route('/api/hello', methods=['GET'])\n",
    "def hello():\n",
    "    return jsonify(message='Hello, World!')\n",
    "\n",
    "if __name__ == '__main__':\n",
    "    app.run(host=\"0.0.0.0\")\n",
    "\n",
    "# ImageURL : https://drive.google.com/file/d/1e8RmmdPhhNuAcP4YeR4jmLlghD9z0drN/view?usp=drive_link\n"
   ]
  }
 ],
 "metadata": {
  "kernelspec": {
   "display_name": "Python 3",
   "language": "python",
   "name": "python3"
  },
  "language_info": {
   "codemirror_mode": {
    "name": "ipython",
    "version": 3
   },
   "file_extension": ".py",
   "mimetype": "text/x-python",
   "name": "python",
   "nbconvert_exporter": "python",
   "pygments_lexer": "ipython3",
   "version": "3.11.4"
  },
  "orig_nbformat": 4
 },
 "nbformat": 4,
 "nbformat_minor": 2
}
