{
 "cells": [
  {
   "attachments": {},
   "cell_type": "markdown",
   "metadata": {},
   "source": [
    "**NOTE : USING \"LOGGING\" AND \"EXCEPTION HANDLING\" IN ALL THE CODES:**"
   ]
  },
  {
   "cell_type": "code",
   "execution_count": 1,
   "metadata": {},
   "outputs": [
    {
     "data": {
      "text/plain": [
       "\"\\nExceptions : \\nIt's an event occured during the execution of the program and disturbs \\nthe normal flow of the program.\\n\\nSyntax Error:\\nIt is the error in the main syntax of the code/statement generally\\noccurs when we violates the conventions of the programming language.\\n\""
      ]
     },
     "execution_count": 1,
     "metadata": {},
     "output_type": "execute_result"
    }
   ],
   "source": [
    "# Q-1 sol:\n",
    "\n",
    "\"\"\"\n",
    "Exceptions : \n",
    "It's an event occured during the execution of the program and disturbs \n",
    "the normal flow of the program.\n",
    "\n",
    "Syntax Error:\n",
    "It is the error in the main syntax of the code/statement generally\n",
    "occurs when we violates the conventions of the programming language.\n",
    "\"\"\""
   ]
  },
  {
   "cell_type": "code",
   "execution_count": null,
   "metadata": {},
   "outputs": [],
   "source": [
    "# Q-2 sol:\n",
    "\n",
    "\"\"\"\n",
    "When the exception is raised in the program and if it is not handled \n",
    "then it will affect the overall flow of the program.\n",
    "\"\"\"\n",
    "import logging\n",
    "logging.basicConfig(filename=\"assign_8_2.log\",level=logging.DEBUG, format=\"%(asctime)s %(name)s %(levelname)s %(message)s\")\n",
    "print(\"My name is Anurag Pareek\")\n",
    "print([1,2,3,3,4])\n",
    "logging.error(\"Here we get the ZeroDivisionError\")\n",
    "a = 90/0\n",
    "print(\"Is this executing\")\n",
    "logging.shutdown()"
   ]
  },
  {
   "cell_type": "code",
   "execution_count": 4,
   "metadata": {},
   "outputs": [
    {
     "name": "stdout",
     "output_type": "stream",
     "text": [
      "Error : division by zero\n"
     ]
    }
   ],
   "source": [
    "# Q-3 sol:\n",
    "\n",
    "\"\"\"\n",
    "'try' and 'except' statements are used to catch and handle the exceptions.\n",
    "\"\"\"\n",
    "import logging\n",
    "logging.basicConfig(filename=\"assign_8_3.log\",level=logging.DEBUG, format=\"%(asctime)s %(name)s %(levelname)s %(message)s\")\n",
    "try:\n",
    "    logging.error(\"Entering try-block\")\n",
    "    a = 10/0\n",
    "except ZeroDivisionError as e:\n",
    "    logging.error(\"Handling ZeroDivisionError\")\n",
    "    print(f\"Error : {e}\")\n",
    "logging.shutdown()"
   ]
  },
  {
   "cell_type": "code",
   "execution_count": 12,
   "metadata": {},
   "outputs": [
    {
     "name": "stdout",
     "output_type": "stream",
     "text": [
      "There's no error in the code.\n",
      "Error : division by zero\n",
      "The execution is done.\n",
      "Error : It shouldn't be 'Hello World'\n"
     ]
    }
   ],
   "source": [
    "# Q-4 sol:\n",
    "\n",
    "\"\"\"\n",
    "try and else: \n",
    "'try' is used to catch and error while 'else' block will only \n",
    "execute if the code is having no exception.\n",
    "\"\"\"\n",
    "import logging\n",
    "logging.basicConfig(filename=\"assign_8_4_1.log\",level=logging.DEBUG, format=\"%(asctime)s %(name)s %(levelname)s %(message)s\")\n",
    "try:\n",
    "    logging.error(\"Entering try-block\")\n",
    "    a = 60/2\n",
    "except Exception as e:\n",
    "    logging.error(\"Handling Exception\")\n",
    "    print(f\"Error : {e}\")\n",
    "else:\n",
    "    logging.error(\"Inside else-block\")\n",
    "    print(\"There's no error in the code.\")\n",
    "logging.shutdown()\n",
    "\n",
    "\"\"\"\n",
    "finally:\n",
    "This block will execute regardless of whether the code is having an exception or not.\n",
    "\"\"\"\n",
    "\n",
    "import logging\n",
    "logging.basicConfig(filename=\"assign_8_4_2.log\",level=logging.DEBUG, format=\"%(asctime)s %(name)s %(levelname)s %(message)s\")\n",
    "try:\n",
    "    logging.error(\"Entering try-block\")\n",
    "    a = 55/0\n",
    "except Exception as e:\n",
    "    logging.error(\"Handling Exceptions\")\n",
    "    print(f\"Error : {e}\")\n",
    "else:\n",
    "    logging.error(\"Entering else-block\")\n",
    "    print(\"There's no error in the code.\")\n",
    "finally:\n",
    "    logging.error(\"Entering finally-block\")\n",
    "    print(\"The execution is done.\")\n",
    "logging.shutdown()\n",
    "\n",
    "\"\"\"\n",
    "raise:\n",
    "This keyword is used to raise an exception.\n",
    "\"\"\"\n",
    "\n",
    "import logging\n",
    "logging.basicConfig(filename=\"assign_8_4_3.log\",level=logging.DEBUG, format=\"%(asctime)s %(name)s %(levelname)s %(message)s\")\n",
    "try:\n",
    "    logging.error(\"Entering try-block\")\n",
    "    k = \"Hello World\"\n",
    "    if k == \"Hello World\":\n",
    "        logging.error(\"Raising SyntaxError\")\n",
    "        raise SyntaxError\n",
    "except SyntaxError:\n",
    "    logging.error(\"Handling Exception\")\n",
    "    print(f\"Error : It shouldn't be 'Hello World'\")\n",
    "logging.shutdown()"
   ]
  },
  {
   "cell_type": "code",
   "execution_count": 10,
   "metadata": {},
   "outputs": [
    {
     "name": "stdout",
     "output_type": "stream",
     "text": [
      "Error : Entered Age is Negative\n"
     ]
    }
   ],
   "source": [
    "# Q-5 sol:\n",
    "\n",
    "\"\"\"\n",
    "Custom Exceptions:\n",
    "They are used defined exception to handle a particular set of instruction \n",
    "which are having exception.\n",
    "We need 'custom exception' since they are more userfriend, readability improves,\n",
    "well organised etc.\n",
    "\"\"\"\n",
    "import logging\n",
    "logging.basicConfig(filename=\"assign_8_5.log\",level=logging.DEBUG, format=\"%(asctime)s %(name)s %(levelname)s %(message)s\")\n",
    "logging.error(\"Created a ValidateAge class\")\n",
    "class ValidateAge(Exception): # Custom Exception\n",
    "    logging.error(\"Inside : ValidateAge class\")\n",
    "    def __init__(self,message):\n",
    "        self.message = message\n",
    "logging.error(\"Defining validate_age function ,seperately\")\n",
    "def validate_age(age):\n",
    "    logging.error(\"Inside : validate_age_func()\")\n",
    "    if age < 0:\n",
    "        raise ValidateAge(\"Entered Age is Negative\")\n",
    "    elif age > 200:\n",
    "        raise ValidateAge(\"Entered age is very High\")\n",
    "    else:\n",
    "        print(\"Age is valid\")\n",
    "try:\n",
    "    logging.error(\"Entering try-block\")\n",
    "    age = -98\n",
    "    validate_age(age)\n",
    "except ValidateAge as e:\n",
    "    logging.error(\"Handling Exception\")\n",
    "    print(f\"Error : {e}\")\n",
    "logging.shutdown()"
   ]
  },
  {
   "cell_type": "code",
   "execution_count": null,
   "metadata": {},
   "outputs": [],
   "source": [
    "# Q-6 sol:\n",
    "\n",
    "import logging\n",
    "logging.basicConfig(filename=\"assign_8_6.log\",level=logging.DEBUG, format=\"%(asctime)s %(name)s %(levelname)s %(message)s\")\n",
    "logging.error(\"Created a ValidateAge class\")\n",
    "class ValidateAge(Exception): # Custom Exception\n",
    "    logging.error(\"Inside : ValidateAge class\")\n",
    "    def __init__(self,message):\n",
    "        self.message = message\n",
    "logging.error(\"Defining validate_age function ,seperately\")\n",
    "def validate_age(age):\n",
    "    logging.error(\"Inside : validate_age_func()\")\n",
    "    if age < 0:\n",
    "        raise ValidateAge(\"Entered Age is Negative\")\n",
    "    elif age > 200:\n",
    "        raise ValidateAge(\"Entered age is very High\")\n",
    "    else:\n",
    "        print(\"Age is valid\")\n",
    "try:\n",
    "    logging.error(\"Entering try-block\")\n",
    "    age = -98\n",
    "    validate_age(age)\n",
    "except ValidateAge as e:\n",
    "    logging.error(\"Handling Exception\")\n",
    "    print(f\"Error : {e}\")\n",
    "logging.shutdown()"
   ]
  }
 ],
 "metadata": {
  "kernelspec": {
   "display_name": "Python 3",
   "language": "python",
   "name": "python3"
  },
  "language_info": {
   "codemirror_mode": {
    "name": "ipython",
    "version": 3
   },
   "file_extension": ".py",
   "mimetype": "text/x-python",
   "name": "python",
   "nbconvert_exporter": "python",
   "pygments_lexer": "ipython3",
   "version": "3.11.3"
  },
  "orig_nbformat": 4
 },
 "nbformat": 4,
 "nbformat_minor": 2
}
