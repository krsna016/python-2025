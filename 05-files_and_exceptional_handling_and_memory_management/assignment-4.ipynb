{
 "cells": [
  {
   "attachments": {},
   "cell_type": "markdown",
   "metadata": {},
   "source": [
    "**NOTE : USING \"LOGGING\" AND \"EXCEPTION HANDLING\" IN ALL THE CODES:**"
   ]
  },
  {
   "cell_type": "code",
   "execution_count": null,
   "metadata": {},
   "outputs": [],
   "source": [
    "# Q-1 sol:\n",
    "\n",
    "\"\"\"\n",
    "Multiprocessing:\n",
    "\n",
    "Multiprocessing in Python refers to the ability to run multiple processes\n",
    "simultaneously, leveraging the capabilities of multiple processors or\n",
    "CPU cores.\n",
    "\n",
    "Here are some reasons why multiprocessing in Python is useful:\n",
    "1.Parallel Execution\n",
    "2.Performance Improvement\n",
    "3.Resource Utilization\n",
    "4.Isolation\n",
    "5.Fault Tolerance\n",
    "6.Scalability\n",
    "\"\"\""
   ]
  },
  {
   "cell_type": "code",
   "execution_count": null,
   "metadata": {},
   "outputs": [],
   "source": [
    "# Q-2 sol:\n",
    "\n",
    "\"\"\"\n",
    "The difference between \"Multithreading\" and \"Multiprocessing\" are:\n",
    "\"Multithreading\" runs multiple threads simultaneously within a single process,\n",
    "while \"Multiprocessing\" runs multiple processes within a single thread.\n",
    "\"\"\""
   ]
  },
  {
   "cell_type": "code",
   "execution_count": 10,
   "metadata": {},
   "outputs": [
    {
     "name": "stdout",
     "output_type": "stream",
     "text": [
      "This is my multiprocessing program\n",
      "This is my main Program\n"
     ]
    }
   ],
   "source": [
    "# Q-3 sol:\n",
    "\n",
    "import threading,logging,multiprocessing\n",
    "logging.basicConfig(filename=\"assign_11_3.log\",level=logging.DEBUG, format=\"%(asctime)s %(name)s %(levelname)s %(message)s\")\n",
    "try:\n",
    "    def test():\n",
    "        logging.error(\"Entered the test() function\")\n",
    "        print(\"This is my multiprocessing program\")\n",
    "except Exception as e:\n",
    "    logging.error(f\"Error : {e}\")\n",
    "if __name__ == '__main__':\n",
    "    m = multiprocessing.Process(target=test())\n",
    "    print(\"This is my main Program\")\n",
    "    m.start()\n",
    "    m.join()\n",
    "logging.shutdown()"
   ]
  },
  {
   "cell_type": "code",
   "execution_count": 3,
   "metadata": {},
   "outputs": [
    {
     "data": {
      "text/plain": [
       "'\\nA multiprocessing pool in Python, specifically referring to the \\nmultiprocessing.Pool class, is a feature provided by the multiprocessing \\nmodule. It allows for easy distribution of work across multiple processes \\nand efficient management of process pools.\\n\\nMultiprocessing Pool in Python:\\n\\n1.Parallel Execution\\n2.Work Distribution\\n3.Efficient Resource Utilization\\n4.Concurrent Processing\\n5.Performance Improvement\\n6.Task Pooling\\n'"
      ]
     },
     "execution_count": 3,
     "metadata": {},
     "output_type": "execute_result"
    }
   ],
   "source": [
    "# Q-4 sol:\n",
    "\n",
    "\"\"\"\n",
    "A multiprocessing pool in Python, specifically referring to the \n",
    "multiprocessing.Pool class, is a feature provided by the multiprocessing \n",
    "module. It allows for easy distribution of work across multiple processes \n",
    "and efficient management of process pools.\n",
    "\n",
    "Multiprocessing Pool in Python:\n",
    "\n",
    "1.Parallel Execution\n",
    "2.Work Distribution\n",
    "3.Efficient Resource Utilization\n",
    "4.Concurrent Processing\n",
    "5.Performance Improvement\n",
    "6.Task Pooling\n",
    "\"\"\""
   ]
  },
  {
   "cell_type": "code",
   "execution_count": 4,
   "metadata": {},
   "outputs": [
    {
     "data": {
      "text/plain": [
       "'\\nTo create a pool of worker processes in Python using the multiprocessing module:\\n\\n1.Import the multiprocessing module.\\n2.Create a Pool object with the desired number of processes.\\n3.Define the function or task to be parallelized.\\n4.Use the pool.map() method to apply the function to multiple input values.\\nObtain the results.\\n5.Close the pool of worker processes and join them to the main process for a\\nclean shutdown.\\n'"
      ]
     },
     "execution_count": 4,
     "metadata": {},
     "output_type": "execute_result"
    }
   ],
   "source": [
    "# Q-5 sol:\n",
    "\n",
    "\"\"\"\n",
    "To create a pool of worker processes in Python using the multiprocessing module:\n",
    "\n",
    "1.Import the multiprocessing module.\n",
    "2.Create a Pool object with the desired number of processes.\n",
    "3.Define the function or task to be parallelized.\n",
    "4.Use the pool.map() method to apply the function to multiple input values.\n",
    "Obtain the results.\n",
    "5.Close the pool of worker processes and join them to the main process for a\n",
    "clean shutdown.\n",
    "\"\"\""
   ]
  },
  {
   "cell_type": "code",
   "execution_count": 11,
   "metadata": {},
   "outputs": [
    {
     "name": "stdout",
     "output_type": "stream",
     "text": [
      "Number: 0\n",
      "Number: 1\n",
      "Number: 2\n",
      "Number: 3\n"
     ]
    }
   ],
   "source": [
    "# Q-6 sol:\n",
    "\n",
    "import multiprocessing,threading,logging\n",
    "logging.basicConfig(filename=\"assign_11_6.log\",level=logging.DEBUG, format=\"%(asctime)s %(name)s %(levelname)s %(message)s\")\n",
    "try:\n",
    "    def print_number(number):\n",
    "        logging.error(\"Entered the print_number() fucntion\")\n",
    "        print(\"Number:\", number)\n",
    "except Exception as e:\n",
    "    logging.error(f\"Error : {e}\")\n",
    "if __name__ == \"__main__\":\n",
    "    processes = []\n",
    "    for i in range(4):\n",
    "        process = multiprocessing.Process(target=print_number(i), args=(i,))\n",
    "        processes.append(process)\n",
    "        process.start()\n",
    "    for process in processes:\n",
    "        process.join()\n",
    "logging.shutdown()"
   ]
  }
 ],
 "metadata": {
  "kernelspec": {
   "display_name": "Python 3",
   "language": "python",
   "name": "python3"
  },
  "language_info": {
   "codemirror_mode": {
    "name": "ipython",
    "version": 3
   },
   "file_extension": ".py",
   "mimetype": "text/x-python",
   "name": "python",
   "nbconvert_exporter": "python",
   "pygments_lexer": "ipython3",
   "version": "3.11.3"
  },
  "orig_nbformat": 4
 },
 "nbformat": 4,
 "nbformat_minor": 2
}
