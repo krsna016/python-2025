{
 "cells": [
  {
   "attachments": {},
   "cell_type": "markdown",
   "metadata": {},
   "source": [
    "**NOTE : USING \"LOGGING\" AND \"EXCEPTION HANDLING\" IN ALL THE CODES:**"
   ]
  },
  {
   "cell_type": "code",
   "execution_count": null,
   "metadata": {},
   "outputs": [],
   "source": [
    "# Q-1 sol:\n",
    "\n",
    "\"\"\"\n",
    "Multithreading : \n",
    "Multithreading in Python refers to the concurrent execution of multiple\n",
    "threads within a single process\n",
    "\n",
    "some common use cases for multithreading in Python:\n",
    "1. Concurrent execution of multiple tasks simultaneously.\n",
    "2. Improving the responsiveness of an application by keeping the main program\n",
    "   thread responsive while executing time-consuming operations in separate\n",
    "   threads.\n",
    "3. Performing parallel processing of data to improve performance.\n",
    "\n",
    "The \"threading\" module is commonly used to handle threads.\n",
    "\"\"\""
   ]
  },
  {
   "cell_type": "code",
   "execution_count": null,
   "metadata": {},
   "outputs": [],
   "source": [
    "# Q-2 sol:\n",
    "\n",
    "\"\"\"\n",
    "The threading module in Python is used to handle threads and provides\n",
    "a high-level interface for creating, managing, and synchronizing threads.\n",
    "1.activeCount() function:\n",
    "    Purpose: This function returns the number of Thread objects currently alive.\n",
    "    Use: It helps to determine the count of active threads at a particular point\n",
    "    in your program.\n",
    "2.currentThread() function:\n",
    "    Purpose: This function returns the current Thread object corresponding to\n",
    "    the caller's thread.\n",
    "    Use: It allows you to access information or perform actions specific to the\n",
    "    current thread.\n",
    "3.enumerate() function:\n",
    "    Purpose: This function returns a list of all Thread objects currently alive.\n",
    "    Use: It provides a way to iterate over all active threads and perform \n",
    "    operations or retrieve information about each thread.\n",
    "\"\"\""
   ]
  },
  {
   "cell_type": "code",
   "execution_count": null,
   "metadata": {},
   "outputs": [],
   "source": [
    "# Q-3 sol:\n",
    "\n",
    "\"\"\"\n",
    "1.run():\n",
    "Purpose: The run() method is the entry point for the thread's activity.\n",
    "Use: You override this method in a subclass of the Thread class to define \n",
    "the behavior of the thread.\n",
    "2.start():\n",
    "Purpose: The start() method is used to start the execution of the thread.\n",
    "Use: It creates a new thread and calls the run() method of that thread.\n",
    "3.join():\n",
    "Purpose: The join() method is used to wait for the thread to complete its execution.\n",
    "Use: It blocks the program's execution until the thread terminates.\n",
    "4.isAlive():\n",
    "Purpose: The isAlive() method is used to check if the thread is currently executing\n",
    "or alive.\n",
    "Use: It returns a boolean value indicating whether the thread is active (True) or\n",
    "has finished execution (False).\n",
    "\"\"\""
   ]
  },
  {
   "cell_type": "code",
   "execution_count": 7,
   "metadata": {},
   "outputs": [
    {
     "name": "stdout",
     "output_type": "stream",
     "text": [
      "[0, 1, 4, 9, 16, 25, 36]\n",
      "[0, 1, 8, 27, 64, 125, 216]\n"
     ]
    }
   ],
   "source": [
    "# Q-4 sol:\n",
    "\n",
    "# 1st thread:\n",
    "import threading,logging\n",
    "logging.basicConfig(filename=\"assign_10_4_1.log\",level=logging.DEBUG, format=\"%(asctime)s %(name)s %(levelname)s %(message)s\")\n",
    "try:\n",
    "    def squares(l):\n",
    "        print([k**2 for k in l])\n",
    "except Exception as e:\n",
    "    logging.error(f\"Error : {e}\")\n",
    "thread_1 = [threading.Thread(target=squares,args=(list(range(7)),))]\n",
    "for t1 in thread_1:\n",
    "    t1.start()\n",
    "    t1.join()\n",
    "logging.shutdown()\n",
    "\n",
    "# 2nd thread:\n",
    "logging.basicConfig(filename=\"assign_10_4_2.log\",level=logging.DEBUG, format=\"%(asctime)s %(name)s %(levelname)s %(message)s\")\n",
    "try:\n",
    "    def cubes(l):\n",
    "        print([k**3 for k in l])    \n",
    "except:\n",
    "    logging.error(f\"Error : {e}\")\n",
    "thread_2 = [threading.Thread(target=cubes,args=(list(range(7)),))]\n",
    "for t2 in thread_2:\n",
    "    t2.start()\n",
    "    t2.join()\n",
    "logging.shutdown()"
   ]
  },
  {
   "cell_type": "code",
   "execution_count": 8,
   "metadata": {},
   "outputs": [
    {
     "data": {
      "text/plain": [
       "'\\nAdvantages of Multithreading:\\n\\n1.Concurrency\\n2.Responsiveness\\n3.Resource Sharing\\n4.Resource Utilization\\n5.Parallelism\\n\\nDisadvantages of Multithreading:\\n\\n1.Synchronization\\n2.Thread Safety\\n3.Deadlocks\\n4.Race Conditions\\n5.Debugging Complexity\\n'"
      ]
     },
     "execution_count": 8,
     "metadata": {},
     "output_type": "execute_result"
    }
   ],
   "source": [
    "# Q-5 sol:\n",
    "\n",
    "\"\"\"\n",
    "Advantages of Multithreading:\n",
    "\n",
    "1.Concurrency\n",
    "2.Responsiveness\n",
    "3.Resource Sharing\n",
    "4.Resource Utilization\n",
    "5.Parallelism\n",
    "\n",
    "Disadvantages of Multithreading:\n",
    "\n",
    "1.Synchronization\n",
    "2.Thread Safety\n",
    "3.Deadlocks\n",
    "4.Race Conditions\n",
    "5.Debugging Complexity\n",
    "\"\"\""
   ]
  },
  {
   "cell_type": "code",
   "execution_count": null,
   "metadata": {},
   "outputs": [],
   "source": [
    "# Q-6 sol:\n",
    "\n",
    "\"\"\"\n",
    "Deadlock:\n",
    "Deadlock is a situation that occurs in a multithreaded environment when two or\n",
    "more threads are blocked indefinitely, waiting for each other to release \n",
    "resources that they hold.\n",
    "\n",
    "Race Condition:\n",
    "A race condition occurs when multiple threads access shared data or resources\n",
    "simultaneously, and the final outcome depends on the timing or sequence of their\n",
    "execution.\n",
    "\"\"\""
   ]
  }
 ],
 "metadata": {
  "kernelspec": {
   "display_name": "Python 3",
   "language": "python",
   "name": "python3"
  },
  "language_info": {
   "codemirror_mode": {
    "name": "ipython",
    "version": 3
   },
   "file_extension": ".py",
   "mimetype": "text/x-python",
   "name": "python",
   "nbconvert_exporter": "python",
   "pygments_lexer": "ipython3",
   "version": "3.11.3"
  },
  "orig_nbformat": 4
 },
 "nbformat": 4,
 "nbformat_minor": 2
}
