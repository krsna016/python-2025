{
 "cells": [
  {
   "cell_type": "code",
   "id": "initial_id",
   "metadata": {
    "collapsed": true,
    "ExecuteTime": {
     "end_time": "2025-01-11T09:09:32.801241Z",
     "start_time": "2025-01-11T09:09:32.797632Z"
    }
   },
   "source": "f = open('test.txt', 'w')  # Wll create the file in pwd",
   "outputs": [],
   "execution_count": 118
  },
  {
   "metadata": {
    "ExecuteTime": {
     "end_time": "2025-01-11T09:09:32.818879Z",
     "start_time": "2025-01-11T09:09:32.815752Z"
    }
   },
   "cell_type": "code",
   "source": "pwd",
   "id": "21738909e77fd6b3",
   "outputs": [
    {
     "data": {
      "text/plain": [
       "'/Users/016.krsna/Desktop/python-2025/05-files_and_exceptional_handling_and_memory_management'"
      ]
     },
     "execution_count": 119,
     "metadata": {},
     "output_type": "execute_result"
    }
   ],
   "execution_count": 119
  },
  {
   "metadata": {
    "ExecuteTime": {
     "end_time": "2025-01-11T09:09:32.966758Z",
     "start_time": "2025-01-11T09:09:32.835299Z"
    }
   },
   "cell_type": "code",
   "source": "ls",
   "id": "f01c538af7afa9c0",
   "outputs": [
    {
     "name": "stdout",
     "output_type": "stream",
     "text": [
      "class_1.ipynb  test.txt\r\n"
     ]
    }
   ],
   "execution_count": 120
  },
  {
   "metadata": {
    "ExecuteTime": {
     "end_time": "2025-01-11T09:09:32.977059Z",
     "start_time": "2025-01-11T09:09:32.973826Z"
    }
   },
   "cell_type": "code",
   "source": "f.write(\"This is my file\")",
   "id": "1dd277d2e9f03108",
   "outputs": [
    {
     "data": {
      "text/plain": [
       "15"
      ]
     },
     "execution_count": 121,
     "metadata": {},
     "output_type": "execute_result"
    }
   ],
   "execution_count": 121
  },
  {
   "metadata": {
    "ExecuteTime": {
     "end_time": "2025-01-11T09:09:32.985877Z",
     "start_time": "2025-01-11T09:09:32.983322Z"
    }
   },
   "cell_type": "code",
   "source": "f.close()",
   "id": "ce9ff72458988210",
   "outputs": [],
   "execution_count": 122
  },
  {
   "metadata": {
    "ExecuteTime": {
     "end_time": "2025-01-11T09:09:33.000181Z",
     "start_time": "2025-01-11T09:09:32.997368Z"
    }
   },
   "cell_type": "code",
   "source": "f = open('test.txt', 'w')",
   "id": "d6baddcba006d211",
   "outputs": [],
   "execution_count": 123
  },
  {
   "metadata": {
    "ExecuteTime": {
     "end_time": "2025-01-11T09:09:33.007152Z",
     "start_time": "2025-01-11T09:09:33.004494Z"
    }
   },
   "cell_type": "code",
   "source": [
    "f.write(\n",
    "    \"Hello World\")  # As we run this the original data in file will get truncated and file is empty until and unless .close() is runs that data is updated with what inside .write() while using mode='w'"
   ],
   "id": "e793f7cd90be5f86",
   "outputs": [
    {
     "data": {
      "text/plain": [
       "11"
      ]
     },
     "execution_count": 124,
     "metadata": {},
     "output_type": "execute_result"
    }
   ],
   "execution_count": 124
  },
  {
   "metadata": {
    "ExecuteTime": {
     "end_time": "2025-01-11T09:09:33.020570Z",
     "start_time": "2025-01-11T09:09:33.018708Z"
    }
   },
   "cell_type": "code",
   "source": "f.close()",
   "id": "39d6f862b82b514b",
   "outputs": [],
   "execution_count": 125
  },
  {
   "metadata": {
    "ExecuteTime": {
     "end_time": "2025-01-11T09:09:33.032222Z",
     "start_time": "2025-01-11T09:09:33.028906Z"
    }
   },
   "cell_type": "code",
   "source": [
    "# To get rid of truncation during running .write() use:\n",
    "f = open(\"test.txt\", 'a')\n",
    "f.write(\"This is Appended\")"
   ],
   "id": "dd58bdaffbe1ebb3",
   "outputs": [
    {
     "data": {
      "text/plain": [
       "16"
      ]
     },
     "execution_count": 126,
     "metadata": {},
     "output_type": "execute_result"
    }
   ],
   "execution_count": 126
  },
  {
   "metadata": {
    "ExecuteTime": {
     "end_time": "2025-01-11T09:09:33.040289Z",
     "start_time": "2025-01-11T09:09:33.038156Z"
    }
   },
   "cell_type": "code",
   "source": "f.close()",
   "id": "dbde142ce366f4d2",
   "outputs": [],
   "execution_count": 127
  },
  {
   "metadata": {
    "ExecuteTime": {
     "end_time": "2025-01-11T09:09:33.052077Z",
     "start_time": "2025-01-11T09:09:33.049676Z"
    }
   },
   "cell_type": "code",
   "source": [
    "f = open('test.txt', 'r')\n",
    "content = f.read()\n",
    "content"
   ],
   "id": "168e5f4336618c4d",
   "outputs": [
    {
     "data": {
      "text/plain": [
       "'Hello WorldThis is Appended'"
      ]
     },
     "execution_count": 128,
     "metadata": {},
     "output_type": "execute_result"
    }
   ],
   "execution_count": 128
  },
  {
   "metadata": {
    "ExecuteTime": {
     "end_time": "2025-01-11T09:09:33.072146Z",
     "start_time": "2025-01-11T09:09:33.069220Z"
    }
   },
   "cell_type": "code",
   "source": [
    "f = open('test.txt', 'w')\n",
    "f.write(\n",
    "    \"A computer is an electronic device that processes data according to a set of instructions called a program. \\nIt performs various operations such as input, processing, storage, and output. Computers can execute complex calculations, manage data, and run applications to perform a wide range of tasks. \\nThey consist of hardware components like the CPU, memory, storage devices, and peripherals, as well as software that includes operating systems and applications.\")\n",
    "f.close()"
   ],
   "id": "c74911dc56ba5e2",
   "outputs": [],
   "execution_count": 129
  },
  {
   "metadata": {
    "ExecuteTime": {
     "end_time": "2025-01-11T09:09:33.081198Z",
     "start_time": "2025-01-11T09:09:33.078311Z"
    }
   },
   "cell_type": "code",
   "source": [
    "f = open('test.txt')\n",
    "f.readline()"
   ],
   "id": "921aeabad4ec4a01",
   "outputs": [
    {
     "data": {
      "text/plain": [
       "'A computer is an electronic device that processes data according to a set of instructions called a program. \\n'"
      ]
     },
     "execution_count": 130,
     "metadata": {},
     "output_type": "execute_result"
    }
   ],
   "execution_count": 130
  },
  {
   "metadata": {
    "ExecuteTime": {
     "end_time": "2025-01-11T09:09:33.159647Z",
     "start_time": "2025-01-11T09:09:33.157458Z"
    }
   },
   "cell_type": "code",
   "source": [
    "f.seek(110)\n",
    "f.readline()"
   ],
   "id": "18023f3c80be72a0",
   "outputs": [
    {
     "data": {
      "text/plain": [
       "'t performs various operations such as input, processing, storage, and output. Computers can execute complex calculations, manage data, and run applications to perform a wide range of tasks. \\n'"
      ]
     },
     "execution_count": 131,
     "metadata": {},
     "output_type": "execute_result"
    }
   ],
   "execution_count": 131
  },
  {
   "metadata": {
    "ExecuteTime": {
     "end_time": "2025-01-11T09:09:33.234954Z",
     "start_time": "2025-01-11T09:09:33.232556Z"
    }
   },
   "cell_type": "code",
   "source": [
    "data1 = open('test.txt', 'r')\n",
    "for i in data1:\n",
    "    print(\"---> \" + i)"
   ],
   "id": "4cdf21bb0fe36c12",
   "outputs": [
    {
     "name": "stdout",
     "output_type": "stream",
     "text": [
      "---> A computer is an electronic device that processes data according to a set of instructions called a program. \n",
      "\n",
      "---> It performs various operations such as input, processing, storage, and output. Computers can execute complex calculations, manage data, and run applications to perform a wide range of tasks. \n",
      "\n",
      "---> They consist of hardware components like the CPU, memory, storage devices, and peripherals, as well as software that includes operating systems and applications.\n"
     ]
    }
   ],
   "execution_count": 132
  },
  {
   "metadata": {
    "ExecuteTime": {
     "end_time": "2025-01-11T09:09:42.813041Z",
     "start_time": "2025-01-11T09:09:42.804543Z"
    }
   },
   "cell_type": "code",
   "source": "import os",
   "id": "1b60b71c85e1c9c2",
   "outputs": [],
   "execution_count": 133
  },
  {
   "metadata": {
    "ExecuteTime": {
     "end_time": "2025-01-11T09:09:53.503401Z",
     "start_time": "2025-01-11T09:09:53.494866Z"
    }
   },
   "cell_type": "code",
   "source": "os.path.getsize('test.txt')",
   "id": "efa9973218439174",
   "outputs": [
    {
     "data": {
      "text/plain": [
       "462"
      ]
     },
     "execution_count": 134,
     "metadata": {},
     "output_type": "execute_result"
    }
   ],
   "execution_count": 134
  },
  {
   "metadata": {
    "ExecuteTime": {
     "end_time": "2025-01-11T09:34:58.202997Z",
     "start_time": "2025-01-11T09:34:58.192228Z"
    }
   },
   "cell_type": "code",
   "source": "os.remove('test.txt')",
   "id": "9e917a6aeadf3d96",
   "outputs": [],
   "execution_count": 135
  },
  {
   "metadata": {
    "ExecuteTime": {
     "end_time": "2025-01-11T09:35:57.427704Z",
     "start_time": "2025-01-11T09:35:57.418462Z"
    }
   },
   "cell_type": "code",
   "source": [
    "f = open('test.txt', 'w')\n",
    "f.write(\n",
    "    \"They consist of hardware components like the CPU, memory, storage devices, and peripherals, as well as software that includes operating systems and applications.\")\n",
    "f.close()"
   ],
   "id": "a7fb522207ae5bf0",
   "outputs": [],
   "execution_count": 136
  },
  {
   "metadata": {
    "ExecuteTime": {
     "end_time": "2025-01-11T09:36:56.541553Z",
     "start_time": "2025-01-11T09:36:56.536119Z"
    }
   },
   "cell_type": "code",
   "source": "os.rename('test.txt', 'new_test.txt')",
   "id": "b775515f450ecad7",
   "outputs": [],
   "execution_count": 137
  },
  {
   "metadata": {
    "ExecuteTime": {
     "end_time": "2025-01-11T09:37:39.286531Z",
     "start_time": "2025-01-11T09:37:39.276571Z"
    }
   },
   "cell_type": "code",
   "source": "import shutil",
   "id": "8d3f53fdb877d50f",
   "outputs": [],
   "execution_count": 138
  },
  {
   "metadata": {
    "ExecuteTime": {
     "end_time": "2025-01-11T09:38:07.759627Z",
     "start_time": "2025-01-11T09:38:07.748032Z"
    }
   },
   "cell_type": "code",
   "source": "shutil.copy('new_test.txt', 'copy_new_test.txt')",
   "id": "90b1f9ae33058a3c",
   "outputs": [
    {
     "data": {
      "text/plain": [
       "'copy_new_test.txt'"
      ]
     },
     "execution_count": 139,
     "metadata": {},
     "output_type": "execute_result"
    }
   ],
   "execution_count": 139
  },
  {
   "metadata": {
    "ExecuteTime": {
     "end_time": "2025-01-11T09:40:50.912256Z",
     "start_time": "2025-01-11T09:40:50.908048Z"
    }
   },
   "cell_type": "code",
   "source": [
    "with open('new_test.txt', 'r') as f:\n",
    "    print(f.read())"
   ],
   "id": "2b2045d61d57c3d1",
   "outputs": [
    {
     "name": "stdout",
     "output_type": "stream",
     "text": [
      "They consist of hardware components like the CPU, memory, storage devices, and peripherals, as well as software that includes operating systems and applications.\n"
     ]
    }
   ],
   "execution_count": 141
  },
  {
   "metadata": {},
   "cell_type": "code",
   "outputs": [],
   "execution_count": null,
   "source": "",
   "id": "7e78fcda93fb2148"
  }
 ],
 "metadata": {
  "kernelspec": {
   "display_name": "Python 3",
   "language": "python",
   "name": "python3"
  },
  "language_info": {
   "codemirror_mode": {
    "name": "ipython",
    "version": 2
   },
   "file_extension": ".py",
   "mimetype": "text/x-python",
   "name": "python",
   "nbconvert_exporter": "python",
   "pygments_lexer": "ipython2",
   "version": "2.7.6"
  }
 },
 "nbformat": 4,
 "nbformat_minor": 5
}
