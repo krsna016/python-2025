{
 "cells": [
  {
   "cell_type": "code",
   "id": "initial_id",
   "metadata": {
    "collapsed": true,
    "ExecuteTime": {
     "end_time": "2025-01-11T09:55:45.835612Z",
     "start_time": "2025-01-11T09:55:45.827745Z"
    }
   },
   "source": [
    "data = {\n",
    "    'name': 'Anurag',\n",
    "    'mail-id': 'anurag020416@gmail.com',\n",
    "    'phone-no': 6900438634,\n",
    "    'subjects': ['data-science', 'big-data', 'data-analytics']\n",
    "}\n",
    "data"
   ],
   "outputs": [
    {
     "data": {
      "text/plain": [
       "{'name': 'Anurag',\n",
       " 'mail-id': 'anurag020416@gmail.com',\n",
       " 'phone-no': 6900438634,\n",
       " 'subjects': ['data-science', 'big-data', 'data-analytics']}"
      ]
     },
     "execution_count": 14,
     "metadata": {},
     "output_type": "execute_result"
    }
   ],
   "execution_count": 14
  },
  {
   "metadata": {
    "ExecuteTime": {
     "end_time": "2025-01-11T09:55:45.849604Z",
     "start_time": "2025-01-11T09:55:45.846654Z"
    }
   },
   "cell_type": "code",
   "source": [
    "import json\n",
    "\n",
    "with open('data.json', 'w') as f:\n",
    "    json.dump(data, f)"
   ],
   "id": "66eb39937f2c4111",
   "outputs": [],
   "execution_count": 15
  },
  {
   "metadata": {
    "ExecuteTime": {
     "end_time": "2025-01-11T09:55:45.873932Z",
     "start_time": "2025-01-11T09:55:45.871486Z"
    }
   },
   "cell_type": "code",
   "source": [
    "with open('data.json', 'r') as f:\n",
    "    data1 = json.load(f)"
   ],
   "id": "4084af58a3bcf9b8",
   "outputs": [],
   "execution_count": 16
  },
  {
   "metadata": {
    "ExecuteTime": {
     "end_time": "2025-01-11T09:55:45.890779Z",
     "start_time": "2025-01-11T09:55:45.888115Z"
    }
   },
   "cell_type": "code",
   "source": "data1",
   "id": "4a3a7936a599cefe",
   "outputs": [
    {
     "data": {
      "text/plain": [
       "{'name': 'Anurag',\n",
       " 'mail-id': 'anurag020416@gmail.com',\n",
       " 'phone-no': 6900438634,\n",
       " 'subjects': ['data-science', 'big-data', 'data-analytics']}"
      ]
     },
     "execution_count": 17,
     "metadata": {},
     "output_type": "execute_result"
    }
   ],
   "execution_count": 17
  },
  {
   "metadata": {
    "ExecuteTime": {
     "end_time": "2025-01-11T09:55:45.907207Z",
     "start_time": "2025-01-11T09:55:45.904984Z"
    }
   },
   "cell_type": "code",
   "source": "data1['subjects'][1]",
   "id": "e521be346951d7",
   "outputs": [
    {
     "data": {
      "text/plain": [
       "'big-data'"
      ]
     },
     "execution_count": 18,
     "metadata": {},
     "output_type": "execute_result"
    }
   ],
   "execution_count": 18
  },
  {
   "metadata": {
    "ExecuteTime": {
     "end_time": "2025-01-11T09:55:45.921740Z",
     "start_time": "2025-01-11T09:55:45.920128Z"
    }
   },
   "cell_type": "code",
   "source": "import csv",
   "id": "95576dbbed838327",
   "outputs": [],
   "execution_count": 19
  },
  {
   "metadata": {
    "ExecuteTime": {
     "end_time": "2025-01-11T09:55:45.932630Z",
     "start_time": "2025-01-11T09:55:45.929825Z"
    }
   },
   "cell_type": "code",
   "source": [
    "data = [\n",
    "    ['name', 'mail', 'id', 'phone'],\n",
    "    ['Anurag', 'anurag020416@gmail.com', 12765, 6900438634],\n",
    "    ['Krsna', 'krsna123@gmail.com', 53128, 832727722]\n",
    "]\n",
    "with open('data.csv', 'w') as f:\n",
    "    writer = csv.writer(f)\n",
    "    for i in data:\n",
    "        writer.writerow(i)"
   ],
   "id": "db446be5383395d2",
   "outputs": [],
   "execution_count": 20
  },
  {
   "metadata": {
    "ExecuteTime": {
     "end_time": "2025-01-11T09:55:45.939338Z",
     "start_time": "2025-01-11T09:55:45.937400Z"
    }
   },
   "cell_type": "code",
   "source": [
    "with open('data.csv','r') as f:\n",
    "    reader = csv.reader(f)\n",
    "    for i in reader:\n",
    "        print(i)"
   ],
   "id": "67adfa2aafe78ae9",
   "outputs": [
    {
     "name": "stdout",
     "output_type": "stream",
     "text": [
      "['name', 'mail', 'id', 'phone']\n",
      "['Anurag', 'anurag020416@gmail.com', '12765', '6900438634']\n",
      "['Krsna', 'krsna123@gmail.com', '53128', '832727722']\n"
     ]
    }
   ],
   "execution_count": 21
  },
  {
   "metadata": {
    "ExecuteTime": {
     "end_time": "2025-01-11T09:59:46.636906Z",
     "start_time": "2025-01-11T09:59:46.631507Z"
    }
   },
   "cell_type": "code",
   "source": [
    "with open('test.bin', 'wb') as f:\n",
    "    f.write(b'\\x02\\x02\\x03')"
   ],
   "id": "42956cc6d4c8b5db",
   "outputs": [],
   "execution_count": 23
  },
  {
   "metadata": {
    "ExecuteTime": {
     "end_time": "2025-01-11T10:01:21.101363Z",
     "start_time": "2025-01-11T10:01:21.092843Z"
    }
   },
   "cell_type": "code",
   "source": [
    "with open('test.bin', 'rb') as f:\n",
    "    print(f.read())"
   ],
   "id": "55eaf73943769d4a",
   "outputs": [
    {
     "name": "stdout",
     "output_type": "stream",
     "text": [
      "b'\\x02\\x02\\x03'\n"
     ]
    }
   ],
   "execution_count": 24
  },
  {
   "metadata": {},
   "cell_type": "code",
   "outputs": [],
   "execution_count": null,
   "source": "",
   "id": "e5630096482acad7"
  }
 ],
 "metadata": {
  "kernelspec": {
   "display_name": "Python 3",
   "language": "python",
   "name": "python3"
  },
  "language_info": {
   "codemirror_mode": {
    "name": "ipython",
    "version": 2
   },
   "file_extension": ".py",
   "mimetype": "text/x-python",
   "name": "python",
   "nbconvert_exporter": "python",
   "pygments_lexer": "ipython2",
   "version": "2.7.6"
  }
 },
 "nbformat": 4,
 "nbformat_minor": 5
}
