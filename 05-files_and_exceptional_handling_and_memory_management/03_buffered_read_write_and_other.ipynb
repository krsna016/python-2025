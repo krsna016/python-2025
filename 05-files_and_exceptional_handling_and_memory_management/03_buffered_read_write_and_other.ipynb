{
 "cells": [
  {
   "cell_type": "code",
   "id": "initial_id",
   "metadata": {
    "collapsed": true,
    "ExecuteTime": {
     "end_time": "2025-01-11T10:02:45.957672Z",
     "start_time": "2025-01-11T10:02:45.955154Z"
    }
   },
   "source": "import io",
   "outputs": [],
   "execution_count": 1
  },
  {
   "metadata": {
    "ExecuteTime": {
     "end_time": "2025-01-11T10:04:38.523700Z",
     "start_time": "2025-01-11T10:04:38.515486Z"
    }
   },
   "cell_type": "code",
   "source": [
    "with open('test1.txt', 'wb') as f:\n",
    "    file = io.BufferedWriter(f)\n",
    "    file.write(b'This is my first line.')\n",
    "    file.write(b'This is my second line.')\n",
    "    file.flush()\n"
   ],
   "id": "6bdd1d58bb61f7e0",
   "outputs": [],
   "execution_count": 3
  },
  {
   "metadata": {
    "ExecuteTime": {
     "end_time": "2025-01-11T10:08:28.981810Z",
     "start_time": "2025-01-11T10:08:28.976266Z"
    }
   },
   "cell_type": "code",
   "source": [
    "with open('test1.txt', 'rb') as f:\n",
    "    file = io.BufferedReader(f)\n",
    "\n",
    "    print(file.read())"
   ],
   "id": "6d30cdffade1995d",
   "outputs": [
    {
     "name": "stdout",
     "output_type": "stream",
     "text": [
      "b'This is my first line.This is my second line.'\n"
     ]
    }
   ],
   "execution_count": 7
  },
  {
   "metadata": {},
   "cell_type": "code",
   "outputs": [],
   "execution_count": null,
   "source": "",
   "id": "4495d5a4ab7bcf8b"
  }
 ],
 "metadata": {
  "kernelspec": {
   "display_name": "Python 3",
   "language": "python",
   "name": "python3"
  },
  "language_info": {
   "codemirror_mode": {
    "name": "ipython",
    "version": 2
   },
   "file_extension": ".py",
   "mimetype": "text/x-python",
   "name": "python",
   "nbconvert_exporter": "python",
   "pygments_lexer": "ipython2",
   "version": "2.7.6"
  }
 },
 "nbformat": 4,
 "nbformat_minor": 5
}
