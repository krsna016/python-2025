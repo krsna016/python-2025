{
 "cells": [
  {
   "cell_type": "code",
   "id": "initial_id",
   "metadata": {
    "collapsed": true,
    "ExecuteTime": {
     "end_time": "2025-01-12T02:03:51.991668Z",
     "start_time": "2025-01-12T02:03:51.987888Z"
    }
   },
   "source": "print(\"This is my print()\")",
   "outputs": [
    {
     "name": "stdout",
     "output_type": "stream",
     "text": [
      "This is my print()\n"
     ]
    }
   ],
   "execution_count": 1
  },
  {
   "metadata": {
    "ExecuteTime": {
     "end_time": "2025-01-12T02:03:51.999559Z",
     "start_time": "2025-01-12T02:03:51.997616Z"
    }
   },
   "cell_type": "code",
   "source": "import logging",
   "id": "5b7cc00b561237f7",
   "outputs": [],
   "execution_count": 2
  },
  {
   "metadata": {
    "ExecuteTime": {
     "end_time": "2025-01-12T02:03:52.087760Z",
     "start_time": "2025-01-12T02:03:52.085052Z"
    }
   },
   "cell_type": "code",
   "source": [
    "logging.basicConfig(filename='test.log', level=logging.INFO)\n",
    "# logging.basicConfig can only be called once in a program"
   ],
   "id": "136c1319fdbce787",
   "outputs": [],
   "execution_count": 3
  },
  {
   "metadata": {
    "ExecuteTime": {
     "end_time": "2025-01-12T02:03:52.094509Z",
     "start_time": "2025-01-12T02:03:52.092579Z"
    }
   },
   "cell_type": "code",
   "source": "logging.info(\"Log this line of execution\")",
   "id": "9f56a963b97c5683",
   "outputs": [],
   "execution_count": 4
  },
  {
   "metadata": {
    "ExecuteTime": {
     "end_time": "2025-01-12T02:03:52.100882Z",
     "start_time": "2025-01-12T02:03:52.098661Z"
    }
   },
   "cell_type": "code",
   "source": [
    "# Other labels are :\n",
    "# NOTSET\n",
    "# DEBUG\n",
    "# INFO\n",
    "# WARNING\n",
    "# ERROR\n",
    "# CRITICAL\n",
    "\n",
    "# हर किसी LABEL के अंडर वो और उसके नीचे के सारे लेबल्स आ जाते हैं\n",
    "logging.warning(\"This is warning.\")\n",
    "logging.error(\"This is my error.\")"
   ],
   "id": "9ed57007ebb0734f",
   "outputs": [],
   "execution_count": 5
  },
  {
   "metadata": {
    "ExecuteTime": {
     "end_time": "2025-01-12T02:19:48.004597Z",
     "start_time": "2025-01-12T02:19:47.997417Z"
    }
   },
   "cell_type": "code",
   "source": [
    "# logging.DEBUG('This is my message.') # First we have to change logging label\n",
    "logging.shutdown()"
   ],
   "id": "daed9585ec1fbda7",
   "outputs": [],
   "execution_count": 8
  },
  {
   "metadata": {
    "ExecuteTime": {
     "end_time": "2025-01-12T02:21:16.453100Z",
     "start_time": "2025-01-12T02:21:16.450193Z"
    }
   },
   "cell_type": "code",
   "source": [
    "import logging\n",
    "\n",
    "logging.basicConfig(filename='test1.log', level=logging.DEBUG, format='%(asctime)s %(message)s')\n",
    "logging.info('This is my info logging.')\n",
    "logging.critical(\"This is my critical\")"
   ],
   "id": "fb76d94502b32e64",
   "outputs": [],
   "execution_count": 2
  },
  {
   "metadata": {
    "ExecuteTime": {
     "end_time": "2025-01-12T02:24:18.609427Z",
     "start_time": "2025-01-12T02:24:18.604686Z"
    }
   },
   "cell_type": "code",
   "source": "logging.shutdown()",
   "id": "f3f04a24bdaa8a4c",
   "outputs": [],
   "execution_count": 3
  },
  {
   "metadata": {
    "ExecuteTime": {
     "end_time": "2025-01-12T02:53:32.048760Z",
     "start_time": "2025-01-12T02:53:32.043700Z"
    }
   },
   "cell_type": "code",
   "source": [
    "import logging\n",
    "\n",
    "logging.basicConfig(filename='test2.log', level=logging.DEBUG, format='%(asctime)s %(name)s %(levelname)s %(message)s')\n",
    "logging.info('This is my info logging.')\n",
    "logging.critical(\"This is my critical\")\n",
    "logging.shutdown()"
   ],
   "id": "bdf1ad67c4ce28d",
   "outputs": [],
   "execution_count": 1
  },
  {
   "metadata": {
    "ExecuteTime": {
     "end_time": "2025-01-12T02:54:11.894579Z",
     "start_time": "2025-01-12T02:54:11.885916Z"
    }
   },
   "cell_type": "code",
   "source": [
    "import logging\n",
    "logging.basicConfig(filename='test3.log', level=logging.DEBUG, format='%(asctime)s %(name)s %(levelname)s %(message)s')\n",
    "l = [1, 2, 3, 3, 4, 56, [2, 3, 4], 'Anurag', \"Pareek\"]\n",
    "ints = []\n",
    "strs = []\n",
    "for i in l:\n",
    "    logging.info(\"We are iterating through our list and local variable is 'i'\")\n",
    "    if type(i) == list:\n",
    "        logging.info(\"I am inside 'if' and trying to check list type\")\n",
    "        for j in i:\n",
    "            logging.info(\"I am in another for loop for list inside list element\")\n",
    "            if type(j) == int:\n",
    "                logging.info(\"I got 'int' value inside list in list\")\n",
    "                ints.append(j)\n",
    "            elif type(j) == str:\n",
    "                logging.info(\"I got 'str' value inside list in list\")\n",
    "                strs.append(j)\n",
    "    elif type(i) == int:\n",
    "        logging.info(\"I got 'int' value inside list\")\n",
    "        ints.append(i)\n",
    "    elif type(i) == str:\n",
    "        logging.info(\"I got 'str' value inside list in list\")\n",
    "        strs.append(i)\n",
    "ints, strs"
   ],
   "id": "565aaadc1c019bdc",
   "outputs": [
    {
     "data": {
      "text/plain": [
       "([1, 2, 3, 3, 4, 56, 2, 3, 4], ['Anurag', 'Pareek'])"
      ]
     },
     "execution_count": 1,
     "metadata": {},
     "output_type": "execute_result"
    }
   ],
   "execution_count": 1
  },
  {
   "metadata": {},
   "cell_type": "code",
   "outputs": [],
   "execution_count": null,
   "source": "",
   "id": "22bff429e2d98b74"
  }
 ],
 "metadata": {
  "kernelspec": {
   "display_name": "Python 3",
   "language": "python",
   "name": "python3"
  },
  "language_info": {
   "codemirror_mode": {
    "name": "ipython",
    "version": 2
   },
   "file_extension": ".py",
   "mimetype": "text/x-python",
   "name": "python",
   "nbconvert_exporter": "python",
   "pygments_lexer": "ipython2",
   "version": "2.7.6"
  }
 },
 "nbformat": 4,
 "nbformat_minor": 5
}
