{
 "cells": [
  {
   "cell_type": "code",
   "execution_count": 2,
   "metadata": {},
   "outputs": [
    {
     "name": "stdout",
     "output_type": "stream",
     "text": [
      "[1, 3, 5, 7, 9, 11, 13, 15, 17, 19, 21, 23, 25]\n"
     ]
    }
   ],
   "source": [
    "# Q-1 sol:\n",
    "\n",
    "\"\"\"\n",
    "def - Keyword is used to define/Create a function\n",
    "\"\"\"\n",
    "def odd_num():\n",
    "    k = [i for i in range(1,26) if i%2!=0]\n",
    "    return k\n",
    "print(odd_num())"
   ]
  },
  {
   "cell_type": "code",
   "execution_count": 6,
   "metadata": {},
   "outputs": [
    {
     "name": "stdout",
     "output_type": "stream",
     "text": [
      "- [1, 2, 3, 4, 5, 6, 7, 8]\n",
      "- 3\n",
      "- 5\n",
      "- 6\n",
      "- {'a': 'Apple', 'b': 'Ball'}\n",
      "a -> apple\n",
      "b -> ball\n",
      "c -> cat\n"
     ]
    }
   ],
   "source": [
    "# Q-2 sol:\n",
    "\n",
    "\"\"\"\n",
    "*args and **kwargs is called \"variable Lenght arguments\"\n",
    "they are used when we don't know the number of arguments \n",
    "to be passed to the function.\n",
    "*args - Take indivisual element and return a tuple of elements\n",
    "**kwargs - Take key-value pairs and return a dictionary\n",
    "\"\"\"\n",
    "def args_use(*args):\n",
    "    for i in args:\n",
    "        print(\"-\",i)\n",
    "args_use([1,2,3,4,5,6,7,8],3,5,6,{\"a\":\"Apple\",\"b\":\"Ball\"})\n",
    "\n",
    "def kwargs_use(**kwargs):\n",
    "    for i,j in kwargs.items():\n",
    "        print(f\"{i} -> {j}\")\n",
    "kwargs_use(a = \"apple\",b = \"ball\",c = \"cat\")"
   ]
  },
  {
   "cell_type": "code",
   "execution_count": 10,
   "metadata": {},
   "outputs": [
    {
     "name": "stdout",
     "output_type": "stream",
     "text": [
      "2\n",
      "4\n",
      "6\n",
      "8\n",
      "10\n",
      "12\n",
      "14\n",
      "16\n",
      "18\n",
      "20\n"
     ]
    }
   ],
   "source": [
    "# Q-3 sol:\n",
    "\n",
    "\"\"\"\n",
    "Iterator : Iterator is the object of the sequence of data (iterables),we call \n",
    "\"next\" method in order to get the elements one-by-one from the iterator object.\n",
    "\n",
    "Method to initialize \"Iterator\" Object : iter()\n",
    "Method Used for \"Iteration\" : next()\n",
    "\"\"\"\n",
    "k = [2, 4, 6, 8, 10, 12, 14, 16, 18, 20] # Iterable\n",
    "q = iter(k) # Iterator\n",
    "for i in range(len(k)):\n",
    "    print(next(q))\n"
   ]
  },
  {
   "cell_type": "code",
   "execution_count": 19,
   "metadata": {},
   "outputs": [
    {
     "name": "stdout",
     "output_type": "stream",
     "text": [
      "1\n",
      "2\n",
      "3\n",
      "4\n",
      "5\n"
     ]
    }
   ],
   "source": [
    "# Q-4 sol:\n",
    "\n",
    "\"\"\"\n",
    "\"Generator\" : It's a special type of function in python which when called \n",
    "gives us the \"iterator object\"\n",
    "\n",
    "\"yield\" keyword is used in order to give the \"Iterator object\" by generator \n",
    "function just alike \"return\" keyword return used.\n",
    "\"\"\"\n",
    "\n",
    "def use_gen(l:list) -> iter:\n",
    "    for i in l:\n",
    "        yield i\n",
    "k = use_gen([1,2,3,4,5,6,10])\n",
    "for i in range(5):\n",
    "    print(next(k))"
   ]
  },
  {
   "cell_type": "code",
   "execution_count": 41,
   "metadata": {},
   "outputs": [
    {
     "name": "stdout",
     "output_type": "stream",
     "text": [
      "2\n",
      "3\n",
      "5\n",
      "7\n",
      "11\n",
      "13\n",
      "17\n",
      "19\n",
      "23\n",
      "29\n",
      "31\n",
      "37\n",
      "41\n",
      "43\n",
      "47\n",
      "53\n",
      "59\n",
      "61\n",
      "67\n",
      "71\n"
     ]
    }
   ],
   "source": [
    "# Q-5 sol:\n",
    "\n",
    "def prime():\n",
    "    for i in range(2,1001):\n",
    "        is_prime = True\n",
    "        for j in range(2,(i//2)+1):\n",
    "            if i%j == 0:\n",
    "                is_prime = False\n",
    "                break\n",
    "            continue\n",
    "        if is_prime:\n",
    "            yield i\n",
    "k = prime()\n",
    "for i in range(20):\n",
    "    print(next(k))"
   ]
  },
  {
   "cell_type": "code",
   "execution_count": 46,
   "metadata": {},
   "outputs": [
    {
     "name": "stdout",
     "output_type": "stream",
     "text": [
      "0 1 1 2 3 5 8 13 21 34 "
     ]
    }
   ],
   "source": [
    "# Q-6 sol:\n",
    "\n",
    "fib = []\n",
    "a,b = 0,1\n",
    "i = 0\n",
    "while i <10:\n",
    "    print(a,end=\" \")\n",
    "    a,b = b,a+b\n",
    "    i += 1\n"
   ]
  },
  {
   "cell_type": "code",
   "execution_count": 48,
   "metadata": {},
   "outputs": [
    {
     "name": "stdout",
     "output_type": "stream",
     "text": [
      "['p', 'w', 's', 'k', 'i', 'l', 'l', 's']\n"
     ]
    }
   ],
   "source": [
    "# Q-7 sol:\n",
    "\n",
    "s = \"pwskills\"\n",
    "k = [i for i in s]\n",
    "print(k)"
   ]
  },
  {
   "cell_type": "code",
   "execution_count": 62,
   "metadata": {},
   "outputs": [
    {
     "name": "stdout",
     "output_type": "stream",
     "text": [
      "Not a Palindrome\n"
     ]
    }
   ],
   "source": [
    "# Q-8 sol:\n",
    "\n",
    "s = input()\n",
    "s1 = s[::-1]\n",
    "if s == s1:\n",
    "    print(\"Palindrome\")\n",
    "else:\n",
    "    print(\"Not a Palindrome\")"
   ]
  },
  {
   "cell_type": "code",
   "execution_count": 67,
   "metadata": {},
   "outputs": [
    {
     "name": "stdout",
     "output_type": "stream",
     "text": [
      "[1, 3, 5, 7, 9, 11, 13, 15, 17, 19, 21, 23, 25, 27, 29, 31, 33, 35, 37, 39, 41, 43, 45, 47, 49, 51, 53, 55, 57, 59, 61, 63, 65, 67, 69, 71, 73, 75, 77, 79, 81, 83, 85, 87, 89, 91, 93, 95, 97, 99]\n",
      "[1, 3, 5, 7, 9, 11, 13, 15, 17, 19, 21, 23, 25, 27, 29, 31, 33, 35, 37, 39, 41, 43, 45, 47, 49, 51, 53, 55, 57, 59, 61, 63, 65, 67, 69, 71, 73, 75, 77, 79, 81, 83, 85, 87, 89, 91, 93, 95, 97, 99]\n"
     ]
    }
   ],
   "source": [
    "# Q-9 sol:\n",
    "\n",
    "odd = [i for i in range(1,101) if i % 2 != 0]\n",
    "print(odd)\n",
    "\n",
    "odd_1 = list(filter(lambda x:x%2 != 0,list(range(1,101))))\n",
    "print(odd_1)"
   ]
  }
 ],
 "metadata": {
  "kernelspec": {
   "display_name": "Python 3",
   "language": "python",
   "name": "python3"
  },
  "language_info": {
   "codemirror_mode": {
    "name": "ipython",
    "version": 3
   },
   "file_extension": ".py",
   "mimetype": "text/x-python",
   "name": "python",
   "nbconvert_exporter": "python",
   "pygments_lexer": "ipython3",
   "version": "3.11.3"
  },
  "orig_nbformat": 4
 },
 "nbformat": 4,
 "nbformat_minor": 2
}
