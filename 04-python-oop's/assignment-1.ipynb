{
 "cells": [
  {
   "cell_type": "code",
   "execution_count": 3,
   "metadata": {},
   "outputs": [],
   "source": [
    "# Q-1 sol:\n",
    "\n",
    "class Vehicle():\n",
    "    def __init__(self,name_of_vehicle,max_speed,average_of_vehicle):\n",
    "        self.name_of_veh = name_of_vehicle\n",
    "        self.max_speed = max_speed\n",
    "        self.average_of_veh = average_of_vehicle"
   ]
  },
  {
   "cell_type": "code",
   "execution_count": 8,
   "metadata": {},
   "outputs": [
    {
     "data": {
      "text/plain": [
       "'The vehicle named Honda has a sitting capacity of about 9 passengers'"
      ]
     },
     "execution_count": 8,
     "metadata": {},
     "output_type": "execute_result"
    }
   ],
   "source": [
    "# Q-2 sol:\n",
    "class Car(Vehicle):\n",
    "    def sitting_capacity(self,capacity):\n",
    "        return f\"The vehicle named {self.name_of_veh} has a \\\n",
    "sitting capacity of about {capacity} passengers\"\n",
    "\n",
    "k = Car(\"Honda\",\"120\",\"600\")\n",
    "k.sitting_capacity(9)"
   ]
  },
  {
   "cell_type": "code",
   "execution_count": 9,
   "metadata": {},
   "outputs": [
    {
     "name": "stdout",
     "output_type": "stream",
     "text": [
      "The battery storage capacity is : 80 Kw\n"
     ]
    }
   ],
   "source": [
    "# Q-3 sol:\n",
    "\n",
    "\"\"\"\n",
    "Multiple Inheritance : It's a concept where one class inherits from multiple\n",
    "classes.\n",
    "\"\"\"\n",
    "class Vehicle:\n",
    "    def __init__(self,name_of_veh):\n",
    "        self.name_of_veh = name_of_veh\n",
    "class Electric_car:\n",
    "    def battery_storage(self,battery):\n",
    "        return f'The battery storage capacity is : {battery}'\n",
    "class Car(Vehicle,Electric_car):\n",
    "    pass\n",
    "k = Car(\"Honda\")\n",
    "print(k.battery_storage(\"80 Kw\"))"
   ]
  },
  {
   "cell_type": "code",
   "execution_count": 14,
   "metadata": {},
   "outputs": [
    {
     "name": "stdout",
     "output_type": "stream",
     "text": [
      "123456\n",
      "456123\n"
     ]
    }
   ],
   "source": [
    "# Q-4 sol:\n",
    "\n",
    "\"\"\"\n",
    "\"Getter\" and \"Setter\" are the decorator used to access or set the new value to \n",
    "the private or protected attributer of the class.\n",
    "\"\"\"\n",
    "class UserData:\n",
    "    def __init__(self,account_name,account_password):\n",
    "        self.__account_name = account_name\n",
    "        self.__account_password = account_password\n",
    "    @property\n",
    "    def account_password_access(self):          # getter\n",
    "        print(self.__account_password)\n",
    "    @account_password_access.setter             # Setter\n",
    "    def password_setter(self,new_password):\n",
    "        self.__account_password = new_password \n",
    "    @account_password_access.deleter            # Deleter\n",
    "    def password_deleter(self):\n",
    "        del self.__account_password\n",
    "\n",
    "user_1 = UserData(\"Anurag\",\"123456\")\n",
    "# print(user_1._UserData__account_name)\n",
    "# print(user_1._UserData__account_password)\n",
    "user_1.account_password_access   # Getting the password\n",
    "user_1.password_setter = 456123  # Setting new pasword\n",
    "user_1.account_password_access   # Getting the password\n",
    "del user_1.password_deleter      # Deleting the password\n",
    "# user_1.account_password_access # Password is now deleted\n"
   ]
  },
  {
   "cell_type": "code",
   "execution_count": 1,
   "metadata": {},
   "outputs": [
    {
     "name": "stdout",
     "output_type": "stream",
     "text": [
      "Hey, I am user1\n",
      "Hey, I am user2\n",
      "Hey, I am user3\n"
     ]
    },
    {
     "data": {
      "text/plain": [
       "'\\nIn the code above, we have a base class called \"User1\" with a method named \\'name\\'.\\nThe \"User2\" and \"User3\" classes are subclasses of \"User1\" and override the \\'name\\' \\nmethod with their own implementations.\\n'"
      ]
     },
     "execution_count": 1,
     "metadata": {},
     "output_type": "execute_result"
    }
   ],
   "source": [
    "# Q-5 sol:\n",
    "\n",
    "\"\"\"\n",
    "Method Overiding : \n",
    "Method overriding is a concept in object-oriented programming where a subclass \n",
    "provides its implementation for a method that is already defined in its superclass. \n",
    "It allows a subclass to modify or extend the behavior of the inherited method. \n",
    "When a method in the subclass has the same name and parameters as a method in the \n",
    "superclass, the subclass method overrides the superclass method.\n",
    "\"\"\"\n",
    "\n",
    "class User1:\n",
    "    def name(self):\n",
    "        print(\"Hey, I am user1\")\n",
    "\n",
    "class User2(User1):\n",
    "    def name(self):\n",
    "        print(\"Hey, I am user2\")\n",
    "\n",
    "class User3(User1):\n",
    "    def name(self):\n",
    "        print(\"Hey, I am user3\")\n",
    "\n",
    "# Creating objects of the classes\n",
    "a = User1()\n",
    "b = User2()\n",
    "c = User3()\n",
    "# Calling the sound() method on the objects\n",
    "a.name()\n",
    "b.name()\n",
    "c.name()\n",
    "\"\"\"\n",
    "In the code above, we have a base class called \"User1\" with a method named 'name'.\n",
    "The \"User2\" and \"User3\" classes are subclasses of \"User1\" and override the 'name' \n",
    "method with their own implementations.\n",
    "\"\"\""
   ]
  },
  {
   "cell_type": "code",
   "execution_count": null,
   "metadata": {},
   "outputs": [],
   "source": []
  }
 ],
 "metadata": {
  "kernelspec": {
   "display_name": "Python 3",
   "language": "python",
   "name": "python3"
  },
  "language_info": {
   "codemirror_mode": {
    "name": "ipython",
    "version": 3
   },
   "file_extension": ".py",
   "mimetype": "text/x-python",
   "name": "python",
   "nbconvert_exporter": "python",
   "pygments_lexer": "ipython3",
   "version": "3.11.3"
  },
  "orig_nbformat": 4
 },
 "nbformat": 4,
 "nbformat_minor": 2
}
