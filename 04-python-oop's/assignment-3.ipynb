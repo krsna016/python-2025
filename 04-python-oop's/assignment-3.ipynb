{
 "cells": [
  {
   "cell_type": "code",
   "execution_count": 2,
   "metadata": {},
   "outputs": [
    {
     "name": "stdout",
     "output_type": "stream",
     "text": [
      "The model is : 1742AB\n"
     ]
    }
   ],
   "source": [
    "# Q-1 sol:\n",
    "\n",
    "\"\"\"\n",
    "Abstraction : \n",
    "Abstraction in python is the concept of breaking down\n",
    "the functions/properties into multiple methods to be \n",
    "worked on. \n",
    "We can also define the skeleton using 'abstract class'\n",
    "It focuses on hiding the implementation and showing the features.\n",
    "\"\"\"\n",
    "# Abstract class:\n",
    "import abc\n",
    "class Car:\n",
    "    @abc.abstractmethod\n",
    "    def average_speed(self):\n",
    "        pass\n",
    "    def odometer(self):\n",
    "        pass\n",
    "    def model(self):\n",
    "        pass\n",
    "    def manufacturing(self):\n",
    "        pass\n",
    "# Abstraction:\n",
    "class Vehicle:\n",
    "    def average_speed(self):\n",
    "        return \"The average speed is 60 Km/h\"\n",
    "    def odometer(self):\n",
    "        return \"The odometer count is : 509 km\"\n",
    "    def model(self):\n",
    "        return \"The model is : 1742AB\"\n",
    "    def manufacturing(self):\n",
    "        return \"Manufacturing Year : 2022\"    \n",
    "\n",
    "cars = Vehicle()\n",
    "print(cars.model())\n"
   ]
  },
  {
   "cell_type": "code",
   "execution_count": 12,
   "metadata": {},
   "outputs": [
    {
     "name": "stdout",
     "output_type": "stream",
     "text": [
      "Honda\n",
      "The model is : 1742AB\n"
     ]
    }
   ],
   "source": [
    "# Q-2 sol:\n",
    "\n",
    "\"\"\"\n",
    "Abstraction : Abstraction in python is the concept of breaking down\n",
    "the functions/properties into multiple methods to be \n",
    "worked on.\n",
    "\n",
    "Encaptulation : Encaptulation is the concept of making the attributes\n",
    "privite or hide the attributes for the external user.\n",
    "\"\"\"\n",
    "import abc\n",
    "class Car:\n",
    "    @abc.abstractmethod\n",
    "    def average_speed(self):\n",
    "        pass\n",
    "    def odometer(self):\n",
    "        pass\n",
    "    def model(self):\n",
    "        pass\n",
    "    def manufacturing(self):\n",
    "        pass\n",
    "# Abstraction:\n",
    "class Vehicle:\n",
    "    def __init__(self,car_name):\n",
    "        self._carname = car_name  # Making the attribute private <- Encaptulation\n",
    "    def car_name(self):\n",
    "        return self._carname\n",
    "    def average_speed(self):\n",
    "        return \"The average speed is 60 Km/h\"\n",
    "    def odometer(self):\n",
    "        return \"The odometer count is : 509 km\"\n",
    "    def model(self):\n",
    "        return \"The model is : 1742AB\"\n",
    "    def manufacturing(self):\n",
    "        return \"Manufacturing Year : 2022\"    \n",
    "cars = Vehicle(\"Honda\")\n",
    "# Now user is not able to see the attribute names\n",
    "# For this he need to call the defined method.\n",
    "print(cars.car_name())\n",
    "print(cars.model())\n"
   ]
  },
  {
   "cell_type": "code",
   "execution_count": 13,
   "metadata": {},
   "outputs": [
    {
     "data": {
      "text/plain": [
       "'\\nabc module : It is used in python in order to create the abstract class.\\n\\nThe abc module in Python stands for \"Abstract Base Classes.\" \\nIt provides a way to define abstract base classes, \\nwhich are classes that cannot be instantiated directly \\nbut serve as a blueprint for other classes.\\n'"
      ]
     },
     "execution_count": 13,
     "metadata": {},
     "output_type": "execute_result"
    }
   ],
   "source": [
    "# Q-3 sol:\n",
    "\n",
    "\"\"\"\n",
    "abc module : It is used in python in order to create the abstract class.\n",
    "\n",
    "The abc module in Python stands for \"Abstract Base Classes.\" \n",
    "It provides a way to define abstract base classes, \n",
    "which are classes that cannot be instantiated directly \n",
    "but serve as a blueprint for other classes.\n",
    "\"\"\""
   ]
  },
  {
   "cell_type": "code",
   "execution_count": 14,
   "metadata": {},
   "outputs": [
    {
     "data": {
      "text/plain": [
       "'\\nWe can achieve data abstraction by using abstract class using abc module\\nin python.\\n'"
      ]
     },
     "execution_count": 14,
     "metadata": {},
     "output_type": "execute_result"
    }
   ],
   "source": [
    "# Q-4 sol:\n",
    "\n",
    "\"\"\"\n",
    "We can achieve data abstraction by using abstract class using abc module\n",
    "in python.\n",
    "\"\"\""
   ]
  },
  {
   "cell_type": "code",
   "execution_count": 17,
   "metadata": {},
   "outputs": [
    {
     "data": {
      "text/plain": [
       "'Anurag'"
      ]
     },
     "execution_count": 17,
     "metadata": {},
     "output_type": "execute_result"
    }
   ],
   "source": [
    "# Q-5 sol:\n",
    "\n",
    "\"\"\"\n",
    "We cannot create an instance of AbstactClass directly but \n",
    "we can use subclass for creating instances.\n",
    "Explanation Below:\n",
    "\"\"\"\n",
    "\"\"\"\n",
    "We are using a subclass named : User, used to create an instance\n",
    "of the abstract class named : AbstractClass\n",
    "\"\"\"\n",
    "import abc\n",
    "class AbstractClass:\n",
    "    @abc.abstractmethod\n",
    "    def name(self):\n",
    "        pass\n",
    "    def age(self):\n",
    "        pass\n",
    "    def school(self):\n",
    "        pass\n",
    "class User:\n",
    "    def __init__(user,name,age,school):\n",
    "        user.name = name\n",
    "        user.age = age\n",
    "        user.school = school\n",
    "    def user_details(user):\n",
    "        print(f\"\"\"\n",
    "            Name is : {user.name}\n",
    "            Age is : {user.age}\n",
    "            School is : {user.school}\n",
    "                \"\"\")\n",
    "user_instance = User(\"Anurag\",20,\"GLA\")\n",
    "user_instance.name"
   ]
  }
 ],
 "metadata": {
  "kernelspec": {
   "display_name": "Python 3",
   "language": "python",
   "name": "python3"
  },
  "language_info": {
   "codemirror_mode": {
    "name": "ipython",
    "version": 3
   },
   "file_extension": ".py",
   "mimetype": "text/x-python",
   "name": "python",
   "nbconvert_exporter": "python",
   "pygments_lexer": "ipython3",
   "version": "3.11.3"
  },
  "orig_nbformat": 4
 },
 "nbformat": 4,
 "nbformat_minor": 2
}
