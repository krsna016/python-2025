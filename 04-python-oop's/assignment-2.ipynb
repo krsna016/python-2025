{
 "cells": [
  {
   "cell_type": "code",
   "execution_count": 1,
   "metadata": {},
   "outputs": [
    {
     "data": {
      "text/plain": [
       "'The name of the car is : Bulero'"
      ]
     },
     "execution_count": 1,
     "metadata": {},
     "output_type": "execute_result"
    }
   ],
   "source": [
    "# Q-1 sol:\n",
    "\n",
    "\"\"\"\"\n",
    "Class : It's the blueprint of the overall classification of the real world \n",
    "        Entity.\n",
    "Object : Objects have their own unique attribute values and can perform actions\n",
    "         through methods defined in the class.\n",
    "\"\"\"\n",
    "class Car:                      # Class\n",
    "    def __init__(self,name):\n",
    "        self.name = name\n",
    "    def car_detail(self):\n",
    "        return f\"The name of the car is : {self.name}\"\n",
    "    \n",
    "car_1 = Car(\"Bulero\")           # Object\n",
    "car_1.car_detail()"
   ]
  },
  {
   "cell_type": "code",
   "execution_count": 2,
   "metadata": {},
   "outputs": [
    {
     "data": {
      "text/plain": [
       "\"\\nThe four pillers of the OOP's are : \\n1. Polymorphism\\n2. Encapsuation\\n3. Abstraction\\n4. Inheritance\\n\""
      ]
     },
     "execution_count": 2,
     "metadata": {},
     "output_type": "execute_result"
    }
   ],
   "source": [
    "# Q-2 sol:\n",
    "\n",
    "\"\"\"\n",
    "The four pillers of the OOP's are : \n",
    "1. Polymorphism\n",
    "2. Encapsuation\n",
    "3. Abstraction\n",
    "4. Inheritance\n",
    "\"\"\""
   ]
  },
  {
   "cell_type": "code",
   "execution_count": 6,
   "metadata": {},
   "outputs": [
    {
     "data": {
      "text/plain": [
       "'123456'"
      ]
     },
     "execution_count": 6,
     "metadata": {},
     "output_type": "execute_result"
    }
   ],
   "source": [
    "# Q-3 sol:\n",
    "\n",
    "\"\"\"\n",
    "__init__() function is used for initializing objects.\n",
    "\"\"\"\n",
    "class BankAccount:\n",
    "    def __init__(self,name,password): # used for initializing the attributes of the object\n",
    "        self.acc_name = name\n",
    "        self.acc_password = password\n",
    "user_1 = BankAccount(\"Ravi\",\"123456\")\n",
    "user_1.acc_name\n",
    "user_1.acc_password"
   ]
  },
  {
   "cell_type": "code",
   "execution_count": 7,
   "metadata": {},
   "outputs": [
    {
     "data": {
      "text/plain": [
       "\"\\nself : It's is used in the class methods to refer it to the object's instances.\\n\""
      ]
     },
     "execution_count": 7,
     "metadata": {},
     "output_type": "execute_result"
    }
   ],
   "source": [
    "# Q-4 sol:\n",
    "\n",
    "\"\"\"\n",
    "self : It's is used in the class methods to refer it to the object's instances.\n",
    "\"\"\""
   ]
  },
  {
   "cell_type": "code",
   "execution_count": 19,
   "metadata": {},
   "outputs": [
    {
     "name": "stdout",
     "output_type": "stream",
     "text": [
      "My name is Anurag Pareek - Single Inheritance\n",
      "My name is Abhishek - Multiple Inheritance\n",
      "My name is Anirudh - Multiple Inheritance\n",
      "My name is Aditya - Multilevel Inheritance\n",
      "My name is Avinash - Multilevel Inheritance\n",
      "My name is Aditya - Multilevel Inheritance\n",
      "My name is Avinash - Multilevel Inheritance\n"
     ]
    }
   ],
   "source": [
    "# Q-5 sol:\n",
    "\n",
    "\"\"\"\n",
    "Inheritance : It's the abiltity through which the child class inherits from\n",
    "the parent class. \n",
    "Types of inheritance : \n",
    "1. Single Inheritance\n",
    "2. Multiple Inheritance\n",
    "3. Multilevel Inheritance\n",
    "\"\"\"\n",
    "# Single Inheritance\n",
    "class parent_1:\n",
    "    def define_yourself_1(self):\n",
    "        return \"My name is Anurag Pareek - Single Inheritance\"\n",
    "class child_1(parent_1):\n",
    "    pass\n",
    "obj_1 = child_1()\n",
    "print(obj_1.define_yourself_1())\n",
    "\n",
    "# Multiple Inheritance\n",
    "class parent_2:\n",
    "    def define_yourself_2(self):\n",
    "        return \"My name is Abhishek - Multiple Inheritance\"\n",
    "class parent_3:\n",
    "    def define_yourself_3(self):\n",
    "        return \"My name is Anirudh - Multiple Inheritance\"\n",
    "class child_2(parent_2,parent_3):\n",
    "    pass\n",
    "obj_2 = child_2()\n",
    "print(obj_2.define_yourself_2())\n",
    "print(obj_2.define_yourself_3())\n",
    "\n",
    "# Multilevel Inheritance\n",
    "class parent_4:\n",
    "    def define_yourself_4(self):\n",
    "        return \"My name is Aditya - Multilevel Inheritance\"\n",
    "class child_3(parent_4):\n",
    "    def define_yourself_5(self):\n",
    "        return \"My name is Avinash - Multilevel Inheritance\"\n",
    "class child_4(child_3):\n",
    "    pass\n",
    "obj_3 = child_3()\n",
    "print(obj_3.define_yourself_4())\n",
    "print(obj_3.define_yourself_5())\n",
    "obj_4 = child_4()\n",
    "print(obj_4.define_yourself_4())\n",
    "print(obj_4.define_yourself_5())\n",
    "\n"
   ]
  }
 ],
 "metadata": {
  "kernelspec": {
   "display_name": "Python 3",
   "language": "python",
   "name": "python3"
  },
  "language_info": {
   "codemirror_mode": {
    "name": "ipython",
    "version": 3
   },
   "file_extension": ".py",
   "mimetype": "text/x-python",
   "name": "python",
   "nbconvert_exporter": "python",
   "pygments_lexer": "ipython3",
   "version": "3.11.3"
  },
  "orig_nbformat": 4
 },
 "nbformat": 4,
 "nbformat_minor": 2
}
