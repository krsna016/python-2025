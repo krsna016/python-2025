{
 "cells": [
  {
   "cell_type": "code",
   "execution_count": null,
   "metadata": {},
   "outputs": [],
   "source": [
    "# Q-1 sol:\n",
    "\n",
    "# We can comment code in python using \"#\" <- Single Line Comment\n",
    "# We can also comment in python using \"\"\" \"\"\" or ''' ''' <- MultiLine Comment "
   ]
  },
  {
   "cell_type": "code",
   "execution_count": null,
   "metadata": {},
   "outputs": [],
   "source": [
    "# Q-2 sol:\n",
    "\n",
    "# Variable are like the containers or a memory allocated for the object stored in it\n",
    "# We can declare value directly without putting the data-type in beginning in python as python is 'Dynamic Programming Language'\n",
    "# We can assign value to the variable using '=' <- Assignment operator \n",
    "# eg: var = '390' <- String Data Type"
   ]
  },
  {
   "cell_type": "code",
   "execution_count": 11,
   "metadata": {},
   "outputs": [
    {
     "data": {
      "text/plain": [
       "' \\n1. str() func. to convert the object to string object\\n2. int() func. to convert the object to integer object\\n3. tuple() func. to convert the object to tuple object\\netc...\\n'"
      ]
     },
     "execution_count": 11,
     "metadata": {},
     "output_type": "execute_result"
    }
   ],
   "source": [
    "# Q-3 sol:\n",
    "\n",
    "# Convertion of one data type to other is known as 'Typecasting'\n",
    "# We can do 'TypeCasting' by using:\n",
    "''' \n",
    "1. str() func. to convert the object to string object\n",
    "2. int() func. to convert the object to integer object\n",
    "3. tuple() func. to convert the object to tuple object\n",
    "etc...\n",
    "'''\n",
    "# If we are trying to convert a wrong object to specific data typle we'll get \"ValueError\""
   ]
  },
  {
   "cell_type": "code",
   "execution_count": null,
   "metadata": {},
   "outputs": [],
   "source": [
    "# Q-4 sol:\n",
    "\n",
    "\"\"\"\n",
    "In order to execute the code using command line:\n",
    "1. First we go to the directory where we saved our file using 'cd' command\n",
    "2. Run the command 'python file_name.py' to execute the file\n",
    "\"\"\""
   ]
  },
  {
   "cell_type": "code",
   "execution_count": 1,
   "metadata": {},
   "outputs": [
    {
     "name": "stdout",
     "output_type": "stream",
     "text": [
      "[2, 3]\n"
     ]
    }
   ],
   "source": [
    "# Q-5 sol:\n",
    "\n",
    "my_list = [1,2,3,4,5]\n",
    "slice = my_list[1:3]\n",
    "print(slice)"
   ]
  },
  {
   "cell_type": "code",
   "execution_count": 2,
   "metadata": {},
   "outputs": [
    {
     "data": {
      "text/plain": [
       "'\\nIn Mathematics, The numbers which can be written in the form of : a+ib are called \"Complex Numbers\" where\\na => Real Part\\nB => Imaginary Part\\ni => iota (root -1)\\nWhereas we represent the complex number in python like : a+jb\\n'"
      ]
     },
     "execution_count": 2,
     "metadata": {},
     "output_type": "execute_result"
    }
   ],
   "source": [
    "# Q-6 sol:\n",
    "\n",
    "\"\"\"\n",
    "In Mathematics, The numbers which can be written in the form of : a+ib are called \"Complex Numbers\" where\n",
    "a => Real Part\n",
    "B => Imaginary Part\n",
    "i => iota (root -1)\n",
    "Whereas we represent the complex number in python like : a+jb\n",
    "\"\"\""
   ]
  },
  {
   "cell_type": "code",
   "execution_count": 3,
   "metadata": {},
   "outputs": [],
   "source": [
    "# Q-7 sol:\n",
    "\n",
    "age = 25"
   ]
  },
  {
   "cell_type": "code",
   "execution_count": 4,
   "metadata": {},
   "outputs": [],
   "source": [
    "# Q-8 sol:\n",
    "\n",
    "price = 9.99 # It contains the 'float' data-type"
   ]
  },
  {
   "cell_type": "code",
   "execution_count": 5,
   "metadata": {},
   "outputs": [
    {
     "name": "stdout",
     "output_type": "stream",
     "text": [
      "Anurag Pareek\n"
     ]
    }
   ],
   "source": [
    "# Q-9 sol:\n",
    "\n",
    "name = \"Anurag Pareek\"\n",
    "print(name) # We use print() function to get the output to the screen"
   ]
  },
  {
   "cell_type": "code",
   "execution_count": 8,
   "metadata": {},
   "outputs": [
    {
     "name": "stdout",
     "output_type": "stream",
     "text": [
      "World\n"
     ]
    }
   ],
   "source": [
    "# Q-10 sol:\n",
    "\n",
    "val = \"Hello, World!\"\n",
    "print(val[7:-1])"
   ]
  },
  {
   "cell_type": "code",
   "execution_count": 10,
   "metadata": {},
   "outputs": [
    {
     "name": "stdout",
     "output_type": "stream",
     "text": [
      "Yes, You are a student\n"
     ]
    }
   ],
   "source": [
    "# Q-11 sol:\n",
    "\n",
    "is_student = True\n",
    "if is_student:\n",
    "    print(\"Yes, You are a student\")\n",
    "else:\n",
    "    print(\"You're not a student\")"
   ]
  }
 ],
 "metadata": {
  "kernelspec": {
   "display_name": "Python 3",
   "language": "python",
   "name": "python3"
  },
  "language_info": {
   "codemirror_mode": {
    "name": "ipython",
    "version": 3
   },
   "file_extension": ".py",
   "mimetype": "text/x-python",
   "name": "python",
   "nbconvert_exporter": "python",
   "pygments_lexer": "ipython3",
   "version": "3.11.3"
  },
  "orig_nbformat": 4
 },
 "nbformat": 4,
 "nbformat_minor": 2
}
